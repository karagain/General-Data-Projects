{
 "cells": [
  {
   "cell_type": "markdown",
   "metadata": {},
   "source": [
    "# Introduction \n",
    "This Jupyter Notebook is a walkthrough of the exploration and preparation that went into the Shanghai Smog Visualization.\n",
    "\n",
    "Notebook is written in Python 3.6     \n",
    "Required Packages: Pandas"
   ]
  },
  {
   "cell_type": "code",
   "execution_count": 1,
   "metadata": {
    "collapsed": true
   },
   "outputs": [],
   "source": [
    "# Import necessary packages for data parsing and exploration\n",
    "import pandas as pd"
   ]
  },
  {
   "cell_type": "markdown",
   "metadata": {},
   "source": [
    "## Gather"
   ]
  },
  {
   "cell_type": "code",
   "execution_count": 2,
   "metadata": {
    "collapsed": true
   },
   "outputs": [],
   "source": [
    "# Import CSV files from downloaded sources. \n",
    "# Online source is at http://www.stateair.net/web/historical/1/4.html Accessed: Febuary 18, 2018\n",
    "# The United States Department of State website on Shanghai Historical Data on Air Quality\n",
    "\n",
    "S2011 = pd.read_csv('Shanghai_2011_HourlyPM25_created20140423.csv', skiprows = 3, encoding = 'windows-1252')\n",
    "S2012 = pd.read_csv('Shanghai_2012_HourlyPM25_created20140423.csv', skiprows = 3, encoding = 'windows-1252')\n",
    "S2013 = pd.read_csv('Shanghai_2013_HourlyPM25_created20140423.csv', skiprows = 3, encoding = 'windows-1252')\n",
    "S2014 = pd.read_csv('Shanghai_2014_HourlyPM25_created20150203.csv', skiprows = 3, encoding = 'windows-1252')\n",
    "S2015 = pd.read_csv('Shanghai_2015_HourlyPM25_created20160201.csv', skiprows = 3, encoding = 'windows-1252')\n",
    "S2016 = pd.read_csv('Shanghai_2016_HourlyPM25_created20170201.csv', skiprows = 3, encoding = 'windows-1252')\n",
    "S2017 = pd.read_csv('Shanghai_2017_HourlyPM25_created20170803.csv', skiprows = 3, encoding = 'windows-1252')"
   ]
  },
  {
   "cell_type": "markdown",
   "metadata": {},
   "source": [
    "### Define - Combine Datasets\n",
    "Right now all the datasets are separate. I would like to combine them into a single dataset to prepare for cleaning.      \n",
    "From a separate view, I am 100% sure that the formats are identical and they can be concatenated without an issue.\n",
    "### Code"
   ]
  },
  {
   "cell_type": "code",
   "execution_count": 3,
   "metadata": {
    "collapsed": true
   },
   "outputs": [],
   "source": [
    "# Create a list of each dataframe\n",
    "list = [S2011, S2012, S2013, S2014, S2015, S2016, S2017]\n",
    "\n",
    "# Create an empty dataframe aggregator variable\n",
    "agg = pd.DataFrame()\n",
    "\n",
    "# Using a for loop, aggregate all dataframes into one list\n",
    "for df in list:\n",
    "    agg = pd.concat([agg, df])"
   ]
  },
  {
   "cell_type": "markdown",
   "metadata": {},
   "source": [
    "### Test\n",
    "The describe method on the Year column shows that I have successfully concatenated the results. The counts are much higher, and the span of the Years included in the aggregated dataframe includes the years form 2011 to 2017."
   ]
  },
  {
   "cell_type": "code",
   "execution_count": 4,
   "metadata": {},
   "outputs": [
    {
     "data": {
      "text/plain": [
       "count    8760.0\n",
       "mean     2011.0\n",
       "std         0.0\n",
       "min      2011.0\n",
       "25%      2011.0\n",
       "50%      2011.0\n",
       "75%      2011.0\n",
       "max      2011.0\n",
       "Name: Year, dtype: float64"
      ]
     },
     "execution_count": 4,
     "metadata": {},
     "output_type": "execute_result"
    }
   ],
   "source": [
    "S2011.Year.describe()"
   ]
  },
  {
   "cell_type": "code",
   "execution_count": 5,
   "metadata": {
    "scrolled": true
   },
   "outputs": [
    {
     "data": {
      "text/plain": [
       "count    56952.000000\n",
       "mean      2013.767383\n",
       "std          1.886334\n",
       "min       2011.000000\n",
       "25%       2012.000000\n",
       "50%       2014.000000\n",
       "75%       2015.000000\n",
       "max       2017.000000\n",
       "Name: Year, dtype: float64"
      ]
     },
     "execution_count": 5,
     "metadata": {},
     "output_type": "execute_result"
    }
   ],
   "source": [
    "agg.Year.describe()"
   ]
  },
  {
   "cell_type": "markdown",
   "metadata": {},
   "source": [
    "## Assess"
   ]
  },
  {
   "cell_type": "code",
   "execution_count": 6,
   "metadata": {},
   "outputs": [
    {
     "data": {
      "text/html": [
       "<div>\n",
       "<style>\n",
       "    .dataframe thead tr:only-child th {\n",
       "        text-align: right;\n",
       "    }\n",
       "\n",
       "    .dataframe thead th {\n",
       "        text-align: left;\n",
       "    }\n",
       "\n",
       "    .dataframe tbody tr th {\n",
       "        vertical-align: top;\n",
       "    }\n",
       "</style>\n",
       "<table border=\"1\" class=\"dataframe\">\n",
       "  <thead>\n",
       "    <tr style=\"text-align: right;\">\n",
       "      <th></th>\n",
       "      <th>Site</th>\n",
       "      <th>Parameter</th>\n",
       "      <th>Date (LST)</th>\n",
       "      <th>Year</th>\n",
       "      <th>Month</th>\n",
       "      <th>Day</th>\n",
       "      <th>Hour</th>\n",
       "      <th>Value</th>\n",
       "      <th>Unit</th>\n",
       "      <th>Duration</th>\n",
       "      <th>QC Name</th>\n",
       "    </tr>\n",
       "  </thead>\n",
       "  <tbody>\n",
       "    <tr>\n",
       "      <th>0</th>\n",
       "      <td>Shanghai</td>\n",
       "      <td>PM2.5</td>\n",
       "      <td>2011-01-01 00:00</td>\n",
       "      <td>2011</td>\n",
       "      <td>1</td>\n",
       "      <td>1</td>\n",
       "      <td>0</td>\n",
       "      <td>-999</td>\n",
       "      <td>µg/m³</td>\n",
       "      <td>1 Hr</td>\n",
       "      <td>Missing</td>\n",
       "    </tr>\n",
       "    <tr>\n",
       "      <th>1</th>\n",
       "      <td>Shanghai</td>\n",
       "      <td>PM2.5</td>\n",
       "      <td>2011-01-01 01:00</td>\n",
       "      <td>2011</td>\n",
       "      <td>1</td>\n",
       "      <td>1</td>\n",
       "      <td>1</td>\n",
       "      <td>-999</td>\n",
       "      <td>µg/m³</td>\n",
       "      <td>1 Hr</td>\n",
       "      <td>Missing</td>\n",
       "    </tr>\n",
       "    <tr>\n",
       "      <th>2</th>\n",
       "      <td>Shanghai</td>\n",
       "      <td>PM2.5</td>\n",
       "      <td>2011-01-01 02:00</td>\n",
       "      <td>2011</td>\n",
       "      <td>1</td>\n",
       "      <td>1</td>\n",
       "      <td>2</td>\n",
       "      <td>-999</td>\n",
       "      <td>µg/m³</td>\n",
       "      <td>1 Hr</td>\n",
       "      <td>Missing</td>\n",
       "    </tr>\n",
       "    <tr>\n",
       "      <th>3</th>\n",
       "      <td>Shanghai</td>\n",
       "      <td>PM2.5</td>\n",
       "      <td>2011-01-01 03:00</td>\n",
       "      <td>2011</td>\n",
       "      <td>1</td>\n",
       "      <td>1</td>\n",
       "      <td>3</td>\n",
       "      <td>-999</td>\n",
       "      <td>µg/m³</td>\n",
       "      <td>1 Hr</td>\n",
       "      <td>Missing</td>\n",
       "    </tr>\n",
       "    <tr>\n",
       "      <th>4</th>\n",
       "      <td>Shanghai</td>\n",
       "      <td>PM2.5</td>\n",
       "      <td>2011-01-01 04:00</td>\n",
       "      <td>2011</td>\n",
       "      <td>1</td>\n",
       "      <td>1</td>\n",
       "      <td>4</td>\n",
       "      <td>-999</td>\n",
       "      <td>µg/m³</td>\n",
       "      <td>1 Hr</td>\n",
       "      <td>Missing</td>\n",
       "    </tr>\n",
       "  </tbody>\n",
       "</table>\n",
       "</div>"
      ],
      "text/plain": [
       "       Site Parameter        Date (LST)  Year  Month  Day  Hour  Value   Unit  \\\n",
       "0  Shanghai     PM2.5  2011-01-01 00:00  2011      1    1     0   -999  µg/m³   \n",
       "1  Shanghai     PM2.5  2011-01-01 01:00  2011      1    1     1   -999  µg/m³   \n",
       "2  Shanghai     PM2.5  2011-01-01 02:00  2011      1    1     2   -999  µg/m³   \n",
       "3  Shanghai     PM2.5  2011-01-01 03:00  2011      1    1     3   -999  µg/m³   \n",
       "4  Shanghai     PM2.5  2011-01-01 04:00  2011      1    1     4   -999  µg/m³   \n",
       "\n",
       "  Duration  QC Name  \n",
       "0     1 Hr  Missing  \n",
       "1     1 Hr  Missing  \n",
       "2     1 Hr  Missing  \n",
       "3     1 Hr  Missing  \n",
       "4     1 Hr  Missing  "
      ]
     },
     "execution_count": 6,
     "metadata": {},
     "output_type": "execute_result"
    }
   ],
   "source": [
    "agg.head()"
   ]
  },
  {
   "cell_type": "code",
   "execution_count": 7,
   "metadata": {},
   "outputs": [
    {
     "name": "stdout",
     "output_type": "stream",
     "text": [
      "Shanghai    56952\n",
      "Name: Site, dtype: int64\n",
      "PM2.5    56952\n",
      "Name: Parameter, dtype: int64\n",
      "µg/m³    56952\n",
      "Name: Unit, dtype: int64\n",
      "1 Hr    56952\n",
      "Name: Duration, dtype: int64\n",
      "Valid      47324\n",
      "Missing     9628\n",
      "Name: QC Name, dtype: int64\n"
     ]
    }
   ],
   "source": [
    "col = [0, 1, 8, 9, 10]\n",
    "for elem in col:\n",
    "    print(agg.iloc[:, elem].value_counts())"
   ]
  },
  {
   "cell_type": "markdown",
   "metadata": {},
   "source": [
    "A quick look at the dataset using the head function shows that we have several paramaters that we can remove. \n",
    "- Site is consistent\n",
    "- Parameter is consistent (particle size)\n",
    "- Date already exists in other values, it can be removed\n",
    "- Value has -999 for non recorded data points. Need to be removed\n",
    "- Units can be added later and are not valuable in this firm\n",
    "- Duration is the same \n",
    "- QC Name is for missing and non missing data. Can be removed"
   ]
  },
  {
   "cell_type": "markdown",
   "metadata": {},
   "source": [
    "### Define - (-)999\n",
    "I will remove the filled null entries to prevent the skewing of data in the visualizations. \n",
    "### Code"
   ]
  },
  {
   "cell_type": "code",
   "execution_count": 8,
   "metadata": {
    "collapsed": true
   },
   "outputs": [],
   "source": [
    "# Create copy to preseve original data\n",
    "df = agg.copy()\n",
    "\n",
    "# Remove null entries\n",
    "df = df[df.Value != -999]"
   ]
  },
  {
   "cell_type": "markdown",
   "metadata": {},
   "source": [
    "### Test"
   ]
  },
  {
   "cell_type": "code",
   "execution_count": 9,
   "metadata": {},
   "outputs": [
    {
     "data": {
      "text/html": [
       "<div>\n",
       "<style>\n",
       "    .dataframe thead tr:only-child th {\n",
       "        text-align: right;\n",
       "    }\n",
       "\n",
       "    .dataframe thead th {\n",
       "        text-align: left;\n",
       "    }\n",
       "\n",
       "    .dataframe tbody tr th {\n",
       "        vertical-align: top;\n",
       "    }\n",
       "</style>\n",
       "<table border=\"1\" class=\"dataframe\">\n",
       "  <thead>\n",
       "    <tr style=\"text-align: right;\">\n",
       "      <th></th>\n",
       "      <th>Site</th>\n",
       "      <th>Parameter</th>\n",
       "      <th>Date (LST)</th>\n",
       "      <th>Year</th>\n",
       "      <th>Month</th>\n",
       "      <th>Day</th>\n",
       "      <th>Hour</th>\n",
       "      <th>Value</th>\n",
       "      <th>Unit</th>\n",
       "      <th>Duration</th>\n",
       "      <th>QC Name</th>\n",
       "    </tr>\n",
       "  </thead>\n",
       "  <tbody>\n",
       "    <tr>\n",
       "      <th>8682</th>\n",
       "      <td>Shanghai</td>\n",
       "      <td>PM2.5</td>\n",
       "      <td>2011-12-28 18:00</td>\n",
       "      <td>2011</td>\n",
       "      <td>12</td>\n",
       "      <td>28</td>\n",
       "      <td>18</td>\n",
       "      <td>36</td>\n",
       "      <td>µg/m³</td>\n",
       "      <td>1 Hr</td>\n",
       "      <td>Valid</td>\n",
       "    </tr>\n",
       "    <tr>\n",
       "      <th>8683</th>\n",
       "      <td>Shanghai</td>\n",
       "      <td>PM2.5</td>\n",
       "      <td>2011-12-28 19:00</td>\n",
       "      <td>2011</td>\n",
       "      <td>12</td>\n",
       "      <td>28</td>\n",
       "      <td>19</td>\n",
       "      <td>41</td>\n",
       "      <td>µg/m³</td>\n",
       "      <td>1 Hr</td>\n",
       "      <td>Valid</td>\n",
       "    </tr>\n",
       "    <tr>\n",
       "      <th>8684</th>\n",
       "      <td>Shanghai</td>\n",
       "      <td>PM2.5</td>\n",
       "      <td>2011-12-28 20:00</td>\n",
       "      <td>2011</td>\n",
       "      <td>12</td>\n",
       "      <td>28</td>\n",
       "      <td>20</td>\n",
       "      <td>44</td>\n",
       "      <td>µg/m³</td>\n",
       "      <td>1 Hr</td>\n",
       "      <td>Valid</td>\n",
       "    </tr>\n",
       "    <tr>\n",
       "      <th>8685</th>\n",
       "      <td>Shanghai</td>\n",
       "      <td>PM2.5</td>\n",
       "      <td>2011-12-28 21:00</td>\n",
       "      <td>2011</td>\n",
       "      <td>12</td>\n",
       "      <td>28</td>\n",
       "      <td>21</td>\n",
       "      <td>40</td>\n",
       "      <td>µg/m³</td>\n",
       "      <td>1 Hr</td>\n",
       "      <td>Valid</td>\n",
       "    </tr>\n",
       "    <tr>\n",
       "      <th>8686</th>\n",
       "      <td>Shanghai</td>\n",
       "      <td>PM2.5</td>\n",
       "      <td>2011-12-28 22:00</td>\n",
       "      <td>2011</td>\n",
       "      <td>12</td>\n",
       "      <td>28</td>\n",
       "      <td>22</td>\n",
       "      <td>25</td>\n",
       "      <td>µg/m³</td>\n",
       "      <td>1 Hr</td>\n",
       "      <td>Valid</td>\n",
       "    </tr>\n",
       "  </tbody>\n",
       "</table>\n",
       "</div>"
      ],
      "text/plain": [
       "          Site Parameter        Date (LST)  Year  Month  Day  Hour  Value  \\\n",
       "8682  Shanghai     PM2.5  2011-12-28 18:00  2011     12   28    18     36   \n",
       "8683  Shanghai     PM2.5  2011-12-28 19:00  2011     12   28    19     41   \n",
       "8684  Shanghai     PM2.5  2011-12-28 20:00  2011     12   28    20     44   \n",
       "8685  Shanghai     PM2.5  2011-12-28 21:00  2011     12   28    21     40   \n",
       "8686  Shanghai     PM2.5  2011-12-28 22:00  2011     12   28    22     25   \n",
       "\n",
       "       Unit Duration QC Name  \n",
       "8682  µg/m³     1 Hr   Valid  \n",
       "8683  µg/m³     1 Hr   Valid  \n",
       "8684  µg/m³     1 Hr   Valid  \n",
       "8685  µg/m³     1 Hr   Valid  \n",
       "8686  µg/m³     1 Hr   Valid  "
      ]
     },
     "execution_count": 9,
     "metadata": {},
     "output_type": "execute_result"
    }
   ],
   "source": [
    "df.head()"
   ]
  },
  {
   "cell_type": "code",
   "execution_count": 10,
   "metadata": {
    "scrolled": true
   },
   "outputs": [
    {
     "data": {
      "text/plain": [
       "2014    8657\n",
       "2013    8587\n",
       "2016    8546\n",
       "2012    8505\n",
       "2015    8385\n",
       "2017    4271\n",
       "2011      77\n",
       "Name: Year, dtype: int64"
      ]
     },
     "execution_count": 10,
     "metadata": {},
     "output_type": "execute_result"
    }
   ],
   "source": [
    "df.Year.value_counts()"
   ]
  },
  {
   "cell_type": "markdown",
   "metadata": {},
   "source": [
    "There are some missing data, this should be taken into consideration.     \n",
    "I will omit 2011 and 2017 because of how much missing data there are, and I expect some trends to be seasonal and be auto regressive. "
   ]
  },
  {
   "cell_type": "markdown",
   "metadata": {},
   "source": [
    "### Define - Column Cleaning\n",
    "Remove uncessary columns to shrink down the dataset\n",
    "### Code"
   ]
  },
  {
   "cell_type": "code",
   "execution_count": 11,
   "metadata": {
    "collapsed": true
   },
   "outputs": [],
   "source": [
    "# Get only useful columns\n",
    "df['Date'] = df['Date (LST)']\n",
    "df = df[['Date', 'Value']]"
   ]
  },
  {
   "cell_type": "markdown",
   "metadata": {},
   "source": [
    "### Test"
   ]
  },
  {
   "cell_type": "code",
   "execution_count": 12,
   "metadata": {},
   "outputs": [
    {
     "data": {
      "text/html": [
       "<div>\n",
       "<style>\n",
       "    .dataframe thead tr:only-child th {\n",
       "        text-align: right;\n",
       "    }\n",
       "\n",
       "    .dataframe thead th {\n",
       "        text-align: left;\n",
       "    }\n",
       "\n",
       "    .dataframe tbody tr th {\n",
       "        vertical-align: top;\n",
       "    }\n",
       "</style>\n",
       "<table border=\"1\" class=\"dataframe\">\n",
       "  <thead>\n",
       "    <tr style=\"text-align: right;\">\n",
       "      <th></th>\n",
       "      <th>Date</th>\n",
       "      <th>Value</th>\n",
       "    </tr>\n",
       "  </thead>\n",
       "  <tbody>\n",
       "    <tr>\n",
       "      <th>8682</th>\n",
       "      <td>2011-12-28 18:00</td>\n",
       "      <td>36</td>\n",
       "    </tr>\n",
       "    <tr>\n",
       "      <th>8683</th>\n",
       "      <td>2011-12-28 19:00</td>\n",
       "      <td>41</td>\n",
       "    </tr>\n",
       "    <tr>\n",
       "      <th>8684</th>\n",
       "      <td>2011-12-28 20:00</td>\n",
       "      <td>44</td>\n",
       "    </tr>\n",
       "    <tr>\n",
       "      <th>8685</th>\n",
       "      <td>2011-12-28 21:00</td>\n",
       "      <td>40</td>\n",
       "    </tr>\n",
       "    <tr>\n",
       "      <th>8686</th>\n",
       "      <td>2011-12-28 22:00</td>\n",
       "      <td>25</td>\n",
       "    </tr>\n",
       "  </tbody>\n",
       "</table>\n",
       "</div>"
      ],
      "text/plain": [
       "                  Date  Value\n",
       "8682  2011-12-28 18:00     36\n",
       "8683  2011-12-28 19:00     41\n",
       "8684  2011-12-28 20:00     44\n",
       "8685  2011-12-28 21:00     40\n",
       "8686  2011-12-28 22:00     25"
      ]
     },
     "execution_count": 12,
     "metadata": {},
     "output_type": "execute_result"
    }
   ],
   "source": [
    "df.head()"
   ]
  },
  {
   "cell_type": "code",
   "execution_count": 13,
   "metadata": {
    "collapsed": true
   },
   "outputs": [],
   "source": [
    "# Save as csv for easier processing in visualizers\n",
    "df.to_csv('Shanghai_Smog_Data.csv', encoding = 'utf-16')"
   ]
  },
  {
   "cell_type": "markdown",
   "metadata": {},
   "source": [
    "# Conclusion\n",
    "In this notebook I explored and prepared the Shanghai Smog dataset for visualization in Tableau by removing unnecessary columns and empty rows. "
   ]
  }
 ],
 "metadata": {
  "kernelspec": {
   "display_name": "Python 3",
   "language": "python",
   "name": "python3"
  },
  "language_info": {
   "codemirror_mode": {
    "name": "ipython",
    "version": 3
   },
   "file_extension": ".py",
   "mimetype": "text/x-python",
   "name": "python",
   "nbconvert_exporter": "python",
   "pygments_lexer": "ipython3",
   "version": "3.6.3"
  }
 },
 "nbformat": 4,
 "nbformat_minor": 2
}
