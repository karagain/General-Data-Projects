{
 "cells": [
  {
   "cell_type": "markdown",
   "metadata": {},
   "source": [
    "# Donors Choose \n",
    "## Problem Statement\n",
    "DonorsChoose is a platform that connects teachers in public schools to donors who want to support public education. \n",
    "\n",
    "This competition hosted by Kaggle is to improve on the existing recommender system by predicting a plausible project to the donor that might yield an additional donation. \n",
    "\n",
    "More information can be found at the link:     \n",
    "    [https://www.kaggle.com/donorschoose/io](https://www.kaggle.com/donorschoose/io)\n",
    "\n",
    "## Intro to Recommenders\n",
    "In my exploration notebook we explored the characteristics that could be used to build a recommender system. Using the characteristics, we are able to build a content based recommender system. A simple content based recommending system is a feature extraction based recommending system where each feature is assigned to an item profile as an element in a vector, and the system recommends similar items. Similar items can be computed in a large assortment of procedures, but I will follow the mean normalized cosine similarity function, also known as the Pearson Correlation. Then use the similarity as a guide for the most similar items, and average those values.  \n",
    "\n",
    "Other recommender systems that will be touched on but may not be used in this notebook are collaborative filtering recommenders, and hybrid recommenders. Collaborative filtering on a simple level is a method to predict ratings based on similar types of inputs. For example, user-user collaborative filtering is predicts user ratings on an item based on how other similar users' ratings. Item-item collaborative filtering predicts user ratings on items based on how similar items are to one another. Hybrid methods combine other recommending systems along with either content based or collaborative filtering systems. \n",
    "\n",
    "Other components for the Hybrid recommending methods could be a naive recommender such as providing the most popular item, a random item, or a sequential item, or more complex models such as combining a CB and CF model. The main purpose of the hybrid model is to alleviate the downsides and complement either CB or CF models. The downsides may include data sparsity, cold starts for new users, unique niches, and others. \n",
    "\n",
    "## My Approach\n",
    "I will use a content based recommender using TFIDF. This approach will capture the frequency of terms used in projects and show what a person may be interested in. I use this model because I assume a normal distribution of vocabulary used in project descriptions. The purpose of this website is to connect donors to projects, and based on the text samples that I viewed on the website, I feel that the range of vocabulary usage will not be esoteric but simple and to the point. \n",
    "\n",
    "\n",
    "\n"
   ]
  },
  {
   "cell_type": "code",
   "execution_count": 30,
   "metadata": {},
   "outputs": [
    {
     "name": "stdout",
     "output_type": "stream",
     "text": [
      "['Donations.csv', 'Donors.csv', 'Projects.csv', 'Resources.csv', 'Schools.csv', 'Teachers.csv']\n"
     ]
    }
   ],
   "source": [
    "import numpy as np\n",
    "import pandas as pd\n",
    "import matplotlib.pyplot as plt\n",
    "import scipy\n",
    "import sklearn\n",
    "import math\n",
    "import random\n",
    "\n",
    "import os\n",
    "print(os.listdir(\"../input\"))\n",
    "\n",
    "from sklearn.model_selection import train_test_split\n",
    "from sklearn.metrics.pairwise import cosine_similarity\n",
    "from sklearn.feature_extraction.text import TfidfVectorizer"
   ]
  },
  {
   "cell_type": "code",
   "execution_count": 31,
   "metadata": {},
   "outputs": [
    {
     "data": {
      "text/plain": [
       "Index(['Project ID', 'Donation ID', 'Donor ID',\n",
       "       'Donation Included Optional Donation', 'Donation Amount',\n",
       "       'Donor Cart Sequence', 'Donation Received Date'],\n",
       "      dtype='object')"
      ]
     },
     "execution_count": 31,
     "metadata": {},
     "output_type": "execute_result"
    }
   ],
   "source": [
    "donations = pd.read_csv('../input/Donations.csv')\n",
    "donations.columns"
   ]
  },
  {
   "cell_type": "code",
   "execution_count": 32,
   "metadata": {},
   "outputs": [],
   "source": [
    "# Pull out information to get the minimal dataframe to Join information\n",
    "id_df = donations.loc[:,['Project ID', 'Donation ID', 'Donor ID']]"
   ]
  },
  {
   "cell_type": "code",
   "execution_count": 33,
   "metadata": {},
   "outputs": [
    {
     "data": {
      "text/html": [
       "<div>\n",
       "<style>\n",
       "    .dataframe thead tr:only-child th {\n",
       "        text-align: right;\n",
       "    }\n",
       "\n",
       "    .dataframe thead th {\n",
       "        text-align: left;\n",
       "    }\n",
       "\n",
       "    .dataframe tbody tr th {\n",
       "        vertical-align: top;\n",
       "    }\n",
       "</style>\n",
       "<table border=\"1\" class=\"dataframe\">\n",
       "  <thead>\n",
       "    <tr style=\"text-align: right;\">\n",
       "      <th></th>\n",
       "      <th>Project ID</th>\n",
       "      <th>Donation ID</th>\n",
       "      <th>Donor ID</th>\n",
       "    </tr>\n",
       "  </thead>\n",
       "  <tbody>\n",
       "    <tr>\n",
       "      <th>0</th>\n",
       "      <td>000009891526c0ade7180f8423792063</td>\n",
       "      <td>688729120858666221208529ee3fc18e</td>\n",
       "      <td>1f4b5b6e68445c6c4a0509b3aca93f38</td>\n",
       "    </tr>\n",
       "    <tr>\n",
       "      <th>1</th>\n",
       "      <td>000009891526c0ade7180f8423792063</td>\n",
       "      <td>dcf1071da3aa3561f91ac689d1f73dee</td>\n",
       "      <td>4aaab6d244bf3599682239ed5591af8a</td>\n",
       "    </tr>\n",
       "    <tr>\n",
       "      <th>2</th>\n",
       "      <td>000009891526c0ade7180f8423792063</td>\n",
       "      <td>18a234b9d1e538c431761d521ea7799d</td>\n",
       "      <td>0b0765dc9c759adc48a07688ba25e94e</td>\n",
       "    </tr>\n",
       "    <tr>\n",
       "      <th>3</th>\n",
       "      <td>000009891526c0ade7180f8423792063</td>\n",
       "      <td>38d2744bf9138b0b57ed581c76c0e2da</td>\n",
       "      <td>377944ad61f72d800b25ec1862aec363</td>\n",
       "    </tr>\n",
       "    <tr>\n",
       "      <th>4</th>\n",
       "      <td>000009891526c0ade7180f8423792063</td>\n",
       "      <td>5a032791e31167a70206bfb86fb60035</td>\n",
       "      <td>6d5b22d39e68c656071a842732c63a0c</td>\n",
       "    </tr>\n",
       "  </tbody>\n",
       "</table>\n",
       "</div>"
      ],
      "text/plain": [
       "                         Project ID                       Donation ID  \\\n",
       "0  000009891526c0ade7180f8423792063  688729120858666221208529ee3fc18e   \n",
       "1  000009891526c0ade7180f8423792063  dcf1071da3aa3561f91ac689d1f73dee   \n",
       "2  000009891526c0ade7180f8423792063  18a234b9d1e538c431761d521ea7799d   \n",
       "3  000009891526c0ade7180f8423792063  38d2744bf9138b0b57ed581c76c0e2da   \n",
       "4  000009891526c0ade7180f8423792063  5a032791e31167a70206bfb86fb60035   \n",
       "\n",
       "                           Donor ID  \n",
       "0  1f4b5b6e68445c6c4a0509b3aca93f38  \n",
       "1  4aaab6d244bf3599682239ed5591af8a  \n",
       "2  0b0765dc9c759adc48a07688ba25e94e  \n",
       "3  377944ad61f72d800b25ec1862aec363  \n",
       "4  6d5b22d39e68c656071a842732c63a0c  "
      ]
     },
     "execution_count": 33,
     "metadata": {},
     "output_type": "execute_result"
    }
   ],
   "source": [
    "id_df.head()"
   ]
  },
  {
   "cell_type": "markdown",
   "metadata": {},
   "source": [
    "### Build User Profile\n",
    "The user profile will be the average of the projects' tfidf vector values. I would like to make this more complicated by getting a weighted average for those that the user donated more to or donated more frequently to. \n",
    "\n",
    "    groupby['donor_id', 'project_id'].count()\n",
    "    \n",
    "    \n",
    "\n",
    "get the set of donor ids\n",
    "for each donor id      \n",
    "```\n",
    "id_df[id_df['Donor ID'] == donor_id]    \n",
    "```\n",
    "This is the id_df with the donor id, each with a unique donation id and the project ID.\n",
    "\n",
    "left join that with the project ID from the TFIDF matrix and then use iloc to get the columns with the vectorized information. \n",
    "\n",
    "Create a new dataframe with the set of donor ids, and set the features as the TFIDF. \n",
    "   "
   ]
  },
  {
   "cell_type": "code",
   "execution_count": 34,
   "metadata": {},
   "outputs": [],
   "source": [
    "# multi-index matrix with the count of donations to a project as eventStrength\n",
    "sample = id_df.groupby(['Donor ID', 'Project ID']).count().head(20)"
   ]
  },
  {
   "cell_type": "code",
   "execution_count": 35,
   "metadata": {},
   "outputs": [
    {
     "data": {
      "text/html": [
       "<div>\n",
       "<style>\n",
       "    .dataframe thead tr:only-child th {\n",
       "        text-align: right;\n",
       "    }\n",
       "\n",
       "    .dataframe thead th {\n",
       "        text-align: left;\n",
       "    }\n",
       "\n",
       "    .dataframe tbody tr th {\n",
       "        vertical-align: top;\n",
       "    }\n",
       "</style>\n",
       "<table border=\"1\" class=\"dataframe\">\n",
       "  <thead>\n",
       "    <tr style=\"text-align: right;\">\n",
       "      <th></th>\n",
       "      <th></th>\n",
       "      <th>Donation ID</th>\n",
       "    </tr>\n",
       "    <tr>\n",
       "      <th>Donor ID</th>\n",
       "      <th>Project ID</th>\n",
       "      <th></th>\n",
       "    </tr>\n",
       "  </thead>\n",
       "  <tbody>\n",
       "    <tr>\n",
       "      <th>00000ce845c00cbf0686c992fc369df4</th>\n",
       "      <th>5bab6101eed588c396a59f6bd64274b6</th>\n",
       "      <td>1</td>\n",
       "    </tr>\n",
       "    <tr>\n",
       "      <th>00002783bc5d108510f3f9666c8b1edd</th>\n",
       "      <th>9db61b1b1e43a7b256eec9b20b42d854</th>\n",
       "      <td>1</td>\n",
       "    </tr>\n",
       "    <tr>\n",
       "      <th rowspan=\"9\" valign=\"top\">00002d44003ed46b066607c5455a999a</th>\n",
       "      <th>2f53e5f31890e647048ac217cda3b83f</th>\n",
       "      <td>2</td>\n",
       "    </tr>\n",
       "    <tr>\n",
       "      <th>2f7996f08052785e9b146f72c0c4990d</th>\n",
       "      <td>1</td>\n",
       "    </tr>\n",
       "    <tr>\n",
       "      <th>64f54f1efcbeb986114a7a13e6b27257</th>\n",
       "      <td>1</td>\n",
       "    </tr>\n",
       "    <tr>\n",
       "      <th>75131d2e94930082aa8ed1e4cd4d21da</th>\n",
       "      <td>1</td>\n",
       "    </tr>\n",
       "    <tr>\n",
       "      <th>c5821d32012efd7df4f6fa12e230e991</th>\n",
       "      <td>1</td>\n",
       "    </tr>\n",
       "    <tr>\n",
       "      <th>dfdaf35bb33f9c105530c82984960ff3</th>\n",
       "      <td>1</td>\n",
       "    </tr>\n",
       "    <tr>\n",
       "      <th>e09933470f4256cc2643341c1d299e55</th>\n",
       "      <td>2</td>\n",
       "    </tr>\n",
       "    <tr>\n",
       "      <th>e2beb818569f66adaa4ced21ca299ac6</th>\n",
       "      <td>1</td>\n",
       "    </tr>\n",
       "    <tr>\n",
       "      <th>eb6d91cbeab5037ca2f45fc3f6a4de8c</th>\n",
       "      <td>1</td>\n",
       "    </tr>\n",
       "    <tr>\n",
       "      <th rowspan=\"5\" valign=\"top\">00002eb25d60a09c318efbd0797bffb5</th>\n",
       "      <th>1031fcd4b9bb0d2f148f75a516d363f7</th>\n",
       "      <td>1</td>\n",
       "    </tr>\n",
       "    <tr>\n",
       "      <th>702f713c52b632d490f3f63b75d22a45</th>\n",
       "      <td>1</td>\n",
       "    </tr>\n",
       "    <tr>\n",
       "      <th>753f4d1b3ac293389c3d54d81e1968ef</th>\n",
       "      <td>1</td>\n",
       "    </tr>\n",
       "    <tr>\n",
       "      <th>7dae9b10d62d50a0152b93904a9c0813</th>\n",
       "      <td>1</td>\n",
       "    </tr>\n",
       "    <tr>\n",
       "      <th>7f1eee11378becef394af4059cb8b04a</th>\n",
       "      <td>1</td>\n",
       "    </tr>\n",
       "    <tr>\n",
       "      <th>0000300773fe015f870914b42528541b</th>\n",
       "      <th>374be8bb5c4ce2b88e495f4f52de5d26</th>\n",
       "      <td>1</td>\n",
       "    </tr>\n",
       "    <tr>\n",
       "      <th>00004c31ce07c22148ee37acd0f814b9</th>\n",
       "      <th>83de659467faffacd3781ade3b681f06</th>\n",
       "      <td>1</td>\n",
       "    </tr>\n",
       "    <tr>\n",
       "      <th>00004e32a448b4832e1b993500bf0731</th>\n",
       "      <th>c4d71a973710cd279f68eb5f15fa897c</th>\n",
       "      <td>1</td>\n",
       "    </tr>\n",
       "    <tr>\n",
       "      <th>00004fa20a986e60a40262ba53d7edf1</th>\n",
       "      <th>bb024eb9784a0f481995271efedfa3e5</th>\n",
       "      <td>1</td>\n",
       "    </tr>\n",
       "  </tbody>\n",
       "</table>\n",
       "</div>"
      ],
      "text/plain": [
       "                                                                   Donation ID\n",
       "Donor ID                         Project ID                                   \n",
       "00000ce845c00cbf0686c992fc369df4 5bab6101eed588c396a59f6bd64274b6            1\n",
       "00002783bc5d108510f3f9666c8b1edd 9db61b1b1e43a7b256eec9b20b42d854            1\n",
       "00002d44003ed46b066607c5455a999a 2f53e5f31890e647048ac217cda3b83f            2\n",
       "                                 2f7996f08052785e9b146f72c0c4990d            1\n",
       "                                 64f54f1efcbeb986114a7a13e6b27257            1\n",
       "                                 75131d2e94930082aa8ed1e4cd4d21da            1\n",
       "                                 c5821d32012efd7df4f6fa12e230e991            1\n",
       "                                 dfdaf35bb33f9c105530c82984960ff3            1\n",
       "                                 e09933470f4256cc2643341c1d299e55            2\n",
       "                                 e2beb818569f66adaa4ced21ca299ac6            1\n",
       "                                 eb6d91cbeab5037ca2f45fc3f6a4de8c            1\n",
       "00002eb25d60a09c318efbd0797bffb5 1031fcd4b9bb0d2f148f75a516d363f7            1\n",
       "                                 702f713c52b632d490f3f63b75d22a45            1\n",
       "                                 753f4d1b3ac293389c3d54d81e1968ef            1\n",
       "                                 7dae9b10d62d50a0152b93904a9c0813            1\n",
       "                                 7f1eee11378becef394af4059cb8b04a            1\n",
       "0000300773fe015f870914b42528541b 374be8bb5c4ce2b88e495f4f52de5d26            1\n",
       "00004c31ce07c22148ee37acd0f814b9 83de659467faffacd3781ade3b681f06            1\n",
       "00004e32a448b4832e1b993500bf0731 c4d71a973710cd279f68eb5f15fa897c            1\n",
       "00004fa20a986e60a40262ba53d7edf1 bb024eb9784a0f481995271efedfa3e5            1"
      ]
     },
     "execution_count": 35,
     "metadata": {},
     "output_type": "execute_result"
    }
   ],
   "source": [
    "sample"
   ]
  },
  {
   "cell_type": "code",
   "execution_count": 36,
   "metadata": {},
   "outputs": [
    {
     "data": {
      "text/html": [
       "<div>\n",
       "<style>\n",
       "    .dataframe thead tr:only-child th {\n",
       "        text-align: right;\n",
       "    }\n",
       "\n",
       "    .dataframe thead th {\n",
       "        text-align: left;\n",
       "    }\n",
       "\n",
       "    .dataframe tbody tr th {\n",
       "        vertical-align: top;\n",
       "    }\n",
       "</style>\n",
       "<table border=\"1\" class=\"dataframe\">\n",
       "  <thead>\n",
       "    <tr style=\"text-align: right;\">\n",
       "      <th></th>\n",
       "      <th>Donation ID</th>\n",
       "    </tr>\n",
       "    <tr>\n",
       "      <th>Project ID</th>\n",
       "      <th></th>\n",
       "    </tr>\n",
       "  </thead>\n",
       "  <tbody>\n",
       "    <tr>\n",
       "      <th>2f53e5f31890e647048ac217cda3b83f</th>\n",
       "      <td>2</td>\n",
       "    </tr>\n",
       "    <tr>\n",
       "      <th>2f7996f08052785e9b146f72c0c4990d</th>\n",
       "      <td>1</td>\n",
       "    </tr>\n",
       "    <tr>\n",
       "      <th>64f54f1efcbeb986114a7a13e6b27257</th>\n",
       "      <td>1</td>\n",
       "    </tr>\n",
       "    <tr>\n",
       "      <th>75131d2e94930082aa8ed1e4cd4d21da</th>\n",
       "      <td>1</td>\n",
       "    </tr>\n",
       "    <tr>\n",
       "      <th>c5821d32012efd7df4f6fa12e230e991</th>\n",
       "      <td>1</td>\n",
       "    </tr>\n",
       "    <tr>\n",
       "      <th>dfdaf35bb33f9c105530c82984960ff3</th>\n",
       "      <td>1</td>\n",
       "    </tr>\n",
       "    <tr>\n",
       "      <th>e09933470f4256cc2643341c1d299e55</th>\n",
       "      <td>2</td>\n",
       "    </tr>\n",
       "    <tr>\n",
       "      <th>e2beb818569f66adaa4ced21ca299ac6</th>\n",
       "      <td>1</td>\n",
       "    </tr>\n",
       "    <tr>\n",
       "      <th>eb6d91cbeab5037ca2f45fc3f6a4de8c</th>\n",
       "      <td>1</td>\n",
       "    </tr>\n",
       "  </tbody>\n",
       "</table>\n",
       "</div>"
      ],
      "text/plain": [
       "                                  Donation ID\n",
       "Project ID                                   \n",
       "2f53e5f31890e647048ac217cda3b83f            2\n",
       "2f7996f08052785e9b146f72c0c4990d            1\n",
       "64f54f1efcbeb986114a7a13e6b27257            1\n",
       "75131d2e94930082aa8ed1e4cd4d21da            1\n",
       "c5821d32012efd7df4f6fa12e230e991            1\n",
       "dfdaf35bb33f9c105530c82984960ff3            1\n",
       "e09933470f4256cc2643341c1d299e55            2\n",
       "e2beb818569f66adaa4ced21ca299ac6            1\n",
       "eb6d91cbeab5037ca2f45fc3f6a4de8c            1"
      ]
     },
     "execution_count": 36,
     "metadata": {},
     "output_type": "execute_result"
    }
   ],
   "source": [
    "# grab donor id's donations\n",
    "sample.loc['00002d44003ed46b066607c5455a999a']"
   ]
  },
  {
   "cell_type": "code",
   "execution_count": 37,
   "metadata": {},
   "outputs": [
    {
     "data": {
      "text/plain": [
       "Donation ID    2\n",
       "Name: (00002d44003ed46b066607c5455a999a, 2f53e5f31890e647048ac217cda3b83f), dtype: int64"
      ]
     },
     "execution_count": 37,
     "metadata": {},
     "output_type": "execute_result"
    }
   ],
   "source": [
    "# grabs the count of occurances\n",
    "sample.loc['00002d44003ed46b066607c5455a999a', '2f53e5f31890e647048ac217cda3b83f']"
   ]
  },
  {
   "cell_type": "code",
   "execution_count": 39,
   "metadata": {},
   "outputs": [
    {
     "data": {
      "text/html": [
       "<div>\n",
       "<style>\n",
       "    .dataframe thead tr:only-child th {\n",
       "        text-align: right;\n",
       "    }\n",
       "\n",
       "    .dataframe thead th {\n",
       "        text-align: left;\n",
       "    }\n",
       "\n",
       "    .dataframe tbody tr th {\n",
       "        vertical-align: top;\n",
       "    }\n",
       "</style>\n",
       "<table border=\"1\" class=\"dataframe\">\n",
       "  <thead>\n",
       "    <tr style=\"text-align: right;\">\n",
       "      <th></th>\n",
       "      <th></th>\n",
       "      <th>Donation ID</th>\n",
       "    </tr>\n",
       "    <tr>\n",
       "      <th>Donor ID</th>\n",
       "      <th>Project ID</th>\n",
       "      <th></th>\n",
       "    </tr>\n",
       "  </thead>\n",
       "  <tbody>\n",
       "    <tr>\n",
       "      <th>00002783bc5d108510f3f9666c8b1edd</th>\n",
       "      <th>9db61b1b1e43a7b256eec9b20b42d854</th>\n",
       "      <td>1</td>\n",
       "    </tr>\n",
       "    <tr>\n",
       "      <th rowspan=\"3\" valign=\"top\">00002d44003ed46b066607c5455a999a</th>\n",
       "      <th>2f53e5f31890e647048ac217cda3b83f</th>\n",
       "      <td>2</td>\n",
       "    </tr>\n",
       "    <tr>\n",
       "      <th>2f7996f08052785e9b146f72c0c4990d</th>\n",
       "      <td>1</td>\n",
       "    </tr>\n",
       "    <tr>\n",
       "      <th>64f54f1efcbeb986114a7a13e6b27257</th>\n",
       "      <td>1</td>\n",
       "    </tr>\n",
       "  </tbody>\n",
       "</table>\n",
       "</div>"
      ],
      "text/plain": [
       "                                                                   Donation ID\n",
       "Donor ID                         Project ID                                   \n",
       "00002783bc5d108510f3f9666c8b1edd 9db61b1b1e43a7b256eec9b20b42d854            1\n",
       "00002d44003ed46b066607c5455a999a 2f53e5f31890e647048ac217cda3b83f            2\n",
       "                                 2f7996f08052785e9b146f72c0c4990d            1\n",
       "                                 64f54f1efcbeb986114a7a13e6b27257            1"
      ]
     },
     "execution_count": 39,
     "metadata": {},
     "output_type": "execute_result"
    }
   ],
   "source": [
    "sample.iloc[1:5]"
   ]
  },
  {
   "cell_type": "markdown",
   "metadata": {},
   "source": [
    "# Reading in Projects"
   ]
  },
  {
   "cell_type": "code",
   "execution_count": 40,
   "metadata": {},
   "outputs": [],
   "source": [
    "projects = pd.read_csv('../input/Projects.csv', nrows=500)\n"
   ]
  },
  {
   "cell_type": "markdown",
   "metadata": {},
   "source": [
    "# Vectorizing TFIDF"
   ]
  },
  {
   "cell_type": "code",
   "execution_count": 41,
   "metadata": {},
   "outputs": [],
   "source": [
    "# # Do you need to split?\n",
    "# features_train, features_test, labels_train, labels_test = train_test_split(word_data, \n",
    "#                                                                                authors, \n",
    "#                                                                                test_size=0.2, \n",
    "#                                                                                random_state=42)"
   ]
  },
  {
   "cell_type": "code",
   "execution_count": 42,
   "metadata": {},
   "outputs": [
    {
     "data": {
      "text/plain": [
       "<500x1000 sparse matrix of type '<class 'numpy.float64'>'\n",
       "\twith 35194 stored elements in Compressed Sparse Row format>"
      ]
     },
     "execution_count": 42,
     "metadata": {},
     "output_type": "execute_result"
    }
   ],
   "source": [
    "vectorizer = TfidfVectorizer(analyzer='word', \n",
    "                                 ngram_range=(1,2), \n",
    "                                 sublinear_tf=True, \n",
    "                                 max_df=0.5,\n",
    "                                 lowercase=True,\n",
    "                                 max_features=1000, # The lower the features, the more specific the words will be to a category.\n",
    "                                 stop_words='english')\n",
    "\n",
    "tfidf_matrix = vectorizer.fit_transform(projects['Project Essay'])\n",
    "# features_test_transformed  = vectorizer.transform(features_test)\n",
    "tfidf_feature_names = vectorizer.get_feature_names()\n",
    "tfidf_matrix"
   ]
  },
  {
   "cell_type": "code",
   "execution_count": 43,
   "metadata": {},
   "outputs": [
    {
     "data": {
      "text/plain": [
       "<1x1000 sparse matrix of type '<class 'numpy.float64'>'\n",
       "\twith 88 stored elements in Compressed Sparse Row format>"
      ]
     },
     "execution_count": 43,
     "metadata": {},
     "output_type": "execute_result"
    }
   ],
   "source": [
    "tfidf_matrix[0]"
   ]
  },
  {
   "cell_type": "markdown",
   "metadata": {},
   "source": [
    "# Count donation by Donor ID"
   ]
  },
  {
   "cell_type": "code",
   "execution_count": 44,
   "metadata": {},
   "outputs": [
    {
     "data": {
      "text/html": [
       "<div>\n",
       "<style>\n",
       "    .dataframe thead tr:only-child th {\n",
       "        text-align: right;\n",
       "    }\n",
       "\n",
       "    .dataframe thead th {\n",
       "        text-align: left;\n",
       "    }\n",
       "\n",
       "    .dataframe tbody tr th {\n",
       "        vertical-align: top;\n",
       "    }\n",
       "</style>\n",
       "<table border=\"1\" class=\"dataframe\">\n",
       "  <thead>\n",
       "    <tr style=\"text-align: right;\">\n",
       "      <th></th>\n",
       "      <th>Project ID</th>\n",
       "      <th>Donation ID</th>\n",
       "    </tr>\n",
       "    <tr>\n",
       "      <th>Donor ID</th>\n",
       "      <th></th>\n",
       "      <th></th>\n",
       "    </tr>\n",
       "  </thead>\n",
       "  <tbody>\n",
       "    <tr>\n",
       "      <th>00000ce845c00cbf0686c992fc369df4</th>\n",
       "      <td>1</td>\n",
       "      <td>1</td>\n",
       "    </tr>\n",
       "    <tr>\n",
       "      <th>00002783bc5d108510f3f9666c8b1edd</th>\n",
       "      <td>1</td>\n",
       "      <td>1</td>\n",
       "    </tr>\n",
       "    <tr>\n",
       "      <th>00002d44003ed46b066607c5455a999a</th>\n",
       "      <td>11</td>\n",
       "      <td>11</td>\n",
       "    </tr>\n",
       "    <tr>\n",
       "      <th>00002eb25d60a09c318efbd0797bffb5</th>\n",
       "      <td>5</td>\n",
       "      <td>5</td>\n",
       "    </tr>\n",
       "    <tr>\n",
       "      <th>0000300773fe015f870914b42528541b</th>\n",
       "      <td>1</td>\n",
       "      <td>1</td>\n",
       "    </tr>\n",
       "    <tr>\n",
       "      <th>00004c31ce07c22148ee37acd0f814b9</th>\n",
       "      <td>1</td>\n",
       "      <td>1</td>\n",
       "    </tr>\n",
       "    <tr>\n",
       "      <th>00004e32a448b4832e1b993500bf0731</th>\n",
       "      <td>1</td>\n",
       "      <td>1</td>\n",
       "    </tr>\n",
       "    <tr>\n",
       "      <th>00004fa20a986e60a40262ba53d7edf1</th>\n",
       "      <td>1</td>\n",
       "      <td>1</td>\n",
       "    </tr>\n",
       "    <tr>\n",
       "      <th>00005454366b6b914f9a8290f18f4aed</th>\n",
       "      <td>1</td>\n",
       "      <td>1</td>\n",
       "    </tr>\n",
       "    <tr>\n",
       "      <th>0000584b8cdaeaa6b3de82be509db839</th>\n",
       "      <td>2</td>\n",
       "      <td>2</td>\n",
       "    </tr>\n",
       "  </tbody>\n",
       "</table>\n",
       "</div>"
      ],
      "text/plain": [
       "                                  Project ID  Donation ID\n",
       "Donor ID                                                 \n",
       "00000ce845c00cbf0686c992fc369df4           1            1\n",
       "00002783bc5d108510f3f9666c8b1edd           1            1\n",
       "00002d44003ed46b066607c5455a999a          11           11\n",
       "00002eb25d60a09c318efbd0797bffb5           5            5\n",
       "0000300773fe015f870914b42528541b           1            1\n",
       "00004c31ce07c22148ee37acd0f814b9           1            1\n",
       "00004e32a448b4832e1b993500bf0731           1            1\n",
       "00004fa20a986e60a40262ba53d7edf1           1            1\n",
       "00005454366b6b914f9a8290f18f4aed           1            1\n",
       "0000584b8cdaeaa6b3de82be509db839           2            2"
      ]
     },
     "execution_count": 44,
     "metadata": {},
     "output_type": "execute_result"
    }
   ],
   "source": [
    "# This is the number of donations made by a person, this can use to weigh the donations. \n",
    "id_df.groupby('Donor ID').count().head(10)"
   ]
  },
  {
   "cell_type": "code",
   "execution_count": 45,
   "metadata": {},
   "outputs": [],
   "source": [
    "apple = [1, 2, 3, 4, 5, 6]"
   ]
  },
  {
   "cell_type": "code",
   "execution_count": 46,
   "metadata": {},
   "outputs": [
    {
     "data": {
      "text/plain": [
       "3"
      ]
     },
     "execution_count": 46,
     "metadata": {},
     "output_type": "execute_result"
    }
   ],
   "source": [
    "apple.index(4)"
   ]
  },
  {
   "cell_type": "markdown",
   "metadata": {},
   "source": [
    "Now you need to line up accessing the tfidf matrix and the person?\n",
    "I think this function only needs to be used once, so it may be easier to stick with what you know. "
   ]
  },
  {
   "cell_type": "code",
   "execution_count": 47,
   "metadata": {},
   "outputs": [],
   "source": [
    "# left join this onto donations, and then divide to get the event strength. \n",
    "sum_df = donations.groupby('Donor ID')['Donation Amount'].sum()\n",
    "sum_df = pd.DataFrame(sum_df)\n",
    "\n",
    "sum_df = sum_df.unstack().reset_index()\n",
    "\n",
    "sum_df = sum_df[['Donor ID', 0]]\n",
    "\n",
    "sum_df['Donation Sum'] = sum_df[0]\n",
    "\n",
    "sum_df = sum_df[['Donor ID', 'Donation Sum']]\n",
    "\n",
    "donations = donations.merge(sum_df, on='Donor ID', how='left')"
   ]
  },
  {
   "cell_type": "code",
   "execution_count": 48,
   "metadata": {},
   "outputs": [
    {
     "data": {
      "text/html": [
       "<div>\n",
       "<style>\n",
       "    .dataframe thead tr:only-child th {\n",
       "        text-align: right;\n",
       "    }\n",
       "\n",
       "    .dataframe thead th {\n",
       "        text-align: left;\n",
       "    }\n",
       "\n",
       "    .dataframe tbody tr th {\n",
       "        vertical-align: top;\n",
       "    }\n",
       "</style>\n",
       "<table border=\"1\" class=\"dataframe\">\n",
       "  <thead>\n",
       "    <tr style=\"text-align: right;\">\n",
       "      <th></th>\n",
       "      <th>Project ID</th>\n",
       "      <th>Donation ID</th>\n",
       "      <th>Donor ID</th>\n",
       "      <th>Donation Included Optional Donation</th>\n",
       "      <th>Donation Amount</th>\n",
       "      <th>Donor Cart Sequence</th>\n",
       "      <th>Donation Received Date</th>\n",
       "      <th>Donation Sum</th>\n",
       "      <th>eventStrength</th>\n",
       "    </tr>\n",
       "  </thead>\n",
       "  <tbody>\n",
       "    <tr>\n",
       "      <th>0</th>\n",
       "      <td>000009891526c0ade7180f8423792063</td>\n",
       "      <td>688729120858666221208529ee3fc18e</td>\n",
       "      <td>1f4b5b6e68445c6c4a0509b3aca93f38</td>\n",
       "      <td>No</td>\n",
       "      <td>178.37</td>\n",
       "      <td>11</td>\n",
       "      <td>2016-08-23 13:15:57</td>\n",
       "      <td>139767.73</td>\n",
       "      <td>0.001276</td>\n",
       "    </tr>\n",
       "    <tr>\n",
       "      <th>1</th>\n",
       "      <td>000009891526c0ade7180f8423792063</td>\n",
       "      <td>dcf1071da3aa3561f91ac689d1f73dee</td>\n",
       "      <td>4aaab6d244bf3599682239ed5591af8a</td>\n",
       "      <td>Yes</td>\n",
       "      <td>25.00</td>\n",
       "      <td>2</td>\n",
       "      <td>2016-06-06 20:05:23</td>\n",
       "      <td>25.00</td>\n",
       "      <td>1.000000</td>\n",
       "    </tr>\n",
       "    <tr>\n",
       "      <th>2</th>\n",
       "      <td>000009891526c0ade7180f8423792063</td>\n",
       "      <td>18a234b9d1e538c431761d521ea7799d</td>\n",
       "      <td>0b0765dc9c759adc48a07688ba25e94e</td>\n",
       "      <td>Yes</td>\n",
       "      <td>20.00</td>\n",
       "      <td>3</td>\n",
       "      <td>2016-06-06 14:08:46</td>\n",
       "      <td>60.00</td>\n",
       "      <td>0.333333</td>\n",
       "    </tr>\n",
       "    <tr>\n",
       "      <th>3</th>\n",
       "      <td>000009891526c0ade7180f8423792063</td>\n",
       "      <td>38d2744bf9138b0b57ed581c76c0e2da</td>\n",
       "      <td>377944ad61f72d800b25ec1862aec363</td>\n",
       "      <td>Yes</td>\n",
       "      <td>25.00</td>\n",
       "      <td>1</td>\n",
       "      <td>2016-05-15 10:23:04</td>\n",
       "      <td>25.00</td>\n",
       "      <td>1.000000</td>\n",
       "    </tr>\n",
       "    <tr>\n",
       "      <th>4</th>\n",
       "      <td>000009891526c0ade7180f8423792063</td>\n",
       "      <td>5a032791e31167a70206bfb86fb60035</td>\n",
       "      <td>6d5b22d39e68c656071a842732c63a0c</td>\n",
       "      <td>Yes</td>\n",
       "      <td>25.00</td>\n",
       "      <td>2</td>\n",
       "      <td>2016-05-17 01:23:38</td>\n",
       "      <td>195.00</td>\n",
       "      <td>0.128205</td>\n",
       "    </tr>\n",
       "  </tbody>\n",
       "</table>\n",
       "</div>"
      ],
      "text/plain": [
       "                         Project ID                       Donation ID  \\\n",
       "0  000009891526c0ade7180f8423792063  688729120858666221208529ee3fc18e   \n",
       "1  000009891526c0ade7180f8423792063  dcf1071da3aa3561f91ac689d1f73dee   \n",
       "2  000009891526c0ade7180f8423792063  18a234b9d1e538c431761d521ea7799d   \n",
       "3  000009891526c0ade7180f8423792063  38d2744bf9138b0b57ed581c76c0e2da   \n",
       "4  000009891526c0ade7180f8423792063  5a032791e31167a70206bfb86fb60035   \n",
       "\n",
       "                           Donor ID Donation Included Optional Donation  \\\n",
       "0  1f4b5b6e68445c6c4a0509b3aca93f38                                  No   \n",
       "1  4aaab6d244bf3599682239ed5591af8a                                 Yes   \n",
       "2  0b0765dc9c759adc48a07688ba25e94e                                 Yes   \n",
       "3  377944ad61f72d800b25ec1862aec363                                 Yes   \n",
       "4  6d5b22d39e68c656071a842732c63a0c                                 Yes   \n",
       "\n",
       "   Donation Amount  Donor Cart Sequence Donation Received Date  Donation Sum  \\\n",
       "0           178.37                   11    2016-08-23 13:15:57     139767.73   \n",
       "1            25.00                    2    2016-06-06 20:05:23         25.00   \n",
       "2            20.00                    3    2016-06-06 14:08:46         60.00   \n",
       "3            25.00                    1    2016-05-15 10:23:04         25.00   \n",
       "4            25.00                    2    2016-05-17 01:23:38        195.00   \n",
       "\n",
       "   eventStrength  \n",
       "0       0.001276  \n",
       "1       1.000000  \n",
       "2       0.333333  \n",
       "3       1.000000  \n",
       "4       0.128205  "
      ]
     },
     "execution_count": 48,
     "metadata": {},
     "output_type": "execute_result"
    }
   ],
   "source": [
    "donations['eventStrength'] = donations['Donation Amount'] / donations['Donation Sum']\n",
    "donations.head()"
   ]
  },
  {
   "cell_type": "code",
   "execution_count": 49,
   "metadata": {},
   "outputs": [],
   "source": [
    "# Create copy with donor ID, Project ID, and eventStrength\n",
    "don_df = donations[['Donor ID', 'Project ID', 'eventStrength']].copy()"
   ]
  },
  {
   "cell_type": "code",
   "execution_count": 50,
   "metadata": {},
   "outputs": [
    {
     "data": {
      "text/html": [
       "<div>\n",
       "<style>\n",
       "    .dataframe thead tr:only-child th {\n",
       "        text-align: right;\n",
       "    }\n",
       "\n",
       "    .dataframe thead th {\n",
       "        text-align: left;\n",
       "    }\n",
       "\n",
       "    .dataframe tbody tr th {\n",
       "        vertical-align: top;\n",
       "    }\n",
       "</style>\n",
       "<table border=\"1\" class=\"dataframe\">\n",
       "  <thead>\n",
       "    <tr style=\"text-align: right;\">\n",
       "      <th></th>\n",
       "      <th>Donor ID</th>\n",
       "      <th>Project ID</th>\n",
       "      <th>eventStrength</th>\n",
       "    </tr>\n",
       "  </thead>\n",
       "  <tbody>\n",
       "    <tr>\n",
       "      <th>0</th>\n",
       "      <td>1f4b5b6e68445c6c4a0509b3aca93f38</td>\n",
       "      <td>000009891526c0ade7180f8423792063</td>\n",
       "      <td>0.001276</td>\n",
       "    </tr>\n",
       "    <tr>\n",
       "      <th>1</th>\n",
       "      <td>4aaab6d244bf3599682239ed5591af8a</td>\n",
       "      <td>000009891526c0ade7180f8423792063</td>\n",
       "      <td>1.000000</td>\n",
       "    </tr>\n",
       "    <tr>\n",
       "      <th>2</th>\n",
       "      <td>0b0765dc9c759adc48a07688ba25e94e</td>\n",
       "      <td>000009891526c0ade7180f8423792063</td>\n",
       "      <td>0.333333</td>\n",
       "    </tr>\n",
       "    <tr>\n",
       "      <th>3</th>\n",
       "      <td>377944ad61f72d800b25ec1862aec363</td>\n",
       "      <td>000009891526c0ade7180f8423792063</td>\n",
       "      <td>1.000000</td>\n",
       "    </tr>\n",
       "    <tr>\n",
       "      <th>4</th>\n",
       "      <td>6d5b22d39e68c656071a842732c63a0c</td>\n",
       "      <td>000009891526c0ade7180f8423792063</td>\n",
       "      <td>0.128205</td>\n",
       "    </tr>\n",
       "  </tbody>\n",
       "</table>\n",
       "</div>"
      ],
      "text/plain": [
       "                           Donor ID                        Project ID  \\\n",
       "0  1f4b5b6e68445c6c4a0509b3aca93f38  000009891526c0ade7180f8423792063   \n",
       "1  4aaab6d244bf3599682239ed5591af8a  000009891526c0ade7180f8423792063   \n",
       "2  0b0765dc9c759adc48a07688ba25e94e  000009891526c0ade7180f8423792063   \n",
       "3  377944ad61f72d800b25ec1862aec363  000009891526c0ade7180f8423792063   \n",
       "4  6d5b22d39e68c656071a842732c63a0c  000009891526c0ade7180f8423792063   \n",
       "\n",
       "   eventStrength  \n",
       "0       0.001276  \n",
       "1       1.000000  \n",
       "2       0.333333  \n",
       "3       1.000000  \n",
       "4       0.128205  "
      ]
     },
     "execution_count": 50,
     "metadata": {},
     "output_type": "execute_result"
    }
   ],
   "source": [
    "don_df.head()"
   ]
  },
  {
   "cell_type": "code",
   "execution_count": 51,
   "metadata": {},
   "outputs": [
    {
     "data": {
      "text/plain": [
       "['7685f0265a19d7b52a470ee4bac883ba',\n",
       " 'f9f4af7099061fb4bf44642a03e5c331',\n",
       " 'afd99a01739ad5557b51b1ba0174e832',\n",
       " 'c614a38bb1a5e68e2ae6ad9d94bb2492',\n",
       " 'ec82a697fab916c0db0cdad746338df9',\n",
       " '563958074d7b12b48b939279eb59e6ca',\n",
       " '717c7a01215d532d68f6fe9e666c88c3',\n",
       " '4202c4e251fe483dfd93520da022f987',\n",
       " '49825532f85d0cdb569797df3ab8ec46',\n",
       " '60dddb9495e5ed60c1f6c1b86fe9a7e4']"
      ]
     },
     "execution_count": 51,
     "metadata": {},
     "output_type": "execute_result"
    }
   ],
   "source": [
    "project_ids = list(projects['Project ID'])\n",
    "project_ids[0:10]"
   ]
  },
  {
   "cell_type": "code",
   "execution_count": 52,
   "metadata": {},
   "outputs": [],
   "source": [
    "don_df = don_df.iloc[:100000]"
   ]
  },
  {
   "cell_type": "code",
   "execution_count": 53,
   "metadata": {},
   "outputs": [],
   "source": [
    "# [1] \n",
    "# replace user with donor\n",
    "# contentid with Project ID\n",
    "# interactions with donations\n",
    "# item with project\n",
    "\n",
    "\n",
    "def get_project_profile(project_id):\n",
    "    idx = project_ids.index(project_id)\n",
    "    project_profile = tfidf_matrix[idx:idx+1]\n",
    "    return project_profile\n",
    "\n",
    "def get_project_profiles(ids):\n",
    "    project_profiles_list = [get_project_profile(x) for x in ids]\n",
    "    project_profiles = scipy.sparse.vstack(project_profiles_list)\n",
    "    return project_profiles\n",
    "\n",
    "def build_donors_profile(donor_id, don_indexed_df):\n",
    "    donations_donor_df = don_indexed_df[don_indexed_df['Donor ID'] == donor_id]\n",
    "    donor_project_profiles = get_project_profiles(list(donations_donor_df['Project ID']))\n",
    "    donor_project_strengths = np.array(donations_donor_df['eventStrength']).reshape(-1,1)\n",
    "    #Weighted average of project profiles by the donations strength\n",
    "    donor_project_strengths_weighted_avg = np.sum(donor_project_profiles.multiply(donor_project_strengths),\n",
    "                                                  axis=0) / np.sum(donor_project_strengths)\n",
    "    donor_profile_norm = sklearn.preprocessing.normalize(donor_project_strengths_weighted_avg)\n",
    "    return donor_profile_norm\n",
    "\n",
    "def build_donors_profiles(): \n",
    "    don_indexed_df = don_df[don_df['Project ID'].isin(projects['Project ID'])]\n",
    "    donor_profiles = {}\n",
    "    for donor_id in don_indexed_df['Donor ID'].unique():\n",
    "        donor_profiles[donor_id] = build_donors_profile(donor_id, don_indexed_df)\n",
    "    return donor_profiles\n",
    "\n",
    "donor_profiles = build_donors_profiles()"
   ]
  },
  {
   "cell_type": "code",
   "execution_count": 28,
   "metadata": {},
   "outputs": [
    {
     "name": "stdout",
     "output_type": "stream",
     "text": [
      "(1, 3000)\n",
      "dbfe64ac9b09eb049378e7147019d11d\n"
     ]
    },
    {
     "data": {
      "text/html": [
       "<div>\n",
       "<style>\n",
       "    .dataframe thead tr:only-child th {\n",
       "        text-align: right;\n",
       "    }\n",
       "\n",
       "    .dataframe thead th {\n",
       "        text-align: left;\n",
       "    }\n",
       "\n",
       "    .dataframe tbody tr th {\n",
       "        vertical-align: top;\n",
       "    }\n",
       "</style>\n",
       "<table border=\"1\" class=\"dataframe\">\n",
       "  <thead>\n",
       "    <tr style=\"text-align: right;\">\n",
       "      <th></th>\n",
       "      <th>token</th>\n",
       "      <th>relevance</th>\n",
       "    </tr>\n",
       "  </thead>\n",
       "  <tbody>\n",
       "    <tr>\n",
       "      <th>0</th>\n",
       "      <td>chromebook</td>\n",
       "      <td>0.251673</td>\n",
       "    </tr>\n",
       "    <tr>\n",
       "      <th>1</th>\n",
       "      <td>websites</td>\n",
       "      <td>0.230577</td>\n",
       "    </tr>\n",
       "    <tr>\n",
       "      <th>2</th>\n",
       "      <td>computer</td>\n",
       "      <td>0.218609</td>\n",
       "    </tr>\n",
       "    <tr>\n",
       "      <th>3</th>\n",
       "      <td>expose students</td>\n",
       "      <td>0.196446</td>\n",
       "    </tr>\n",
       "    <tr>\n",
       "      <th>4</th>\n",
       "      <td>educational</td>\n",
       "      <td>0.174033</td>\n",
       "    </tr>\n",
       "    <tr>\n",
       "      <th>5</th>\n",
       "      <td>technology students</td>\n",
       "      <td>0.171345</td>\n",
       "    </tr>\n",
       "    <tr>\n",
       "      <th>6</th>\n",
       "      <td>expose</td>\n",
       "      <td>0.168447</td>\n",
       "    </tr>\n",
       "    <tr>\n",
       "      <th>7</th>\n",
       "      <td>second graders</td>\n",
       "      <td>0.158732</td>\n",
       "    </tr>\n",
       "    <tr>\n",
       "      <th>8</th>\n",
       "      <td>specific</td>\n",
       "      <td>0.156663</td>\n",
       "    </tr>\n",
       "    <tr>\n",
       "      <th>9</th>\n",
       "      <td>internet</td>\n",
       "      <td>0.147786</td>\n",
       "    </tr>\n",
       "    <tr>\n",
       "      <th>10</th>\n",
       "      <td>play</td>\n",
       "      <td>0.144869</td>\n",
       "    </tr>\n",
       "    <tr>\n",
       "      <th>11</th>\n",
       "      <td>technology</td>\n",
       "      <td>0.144053</td>\n",
       "    </tr>\n",
       "    <tr>\n",
       "      <th>12</th>\n",
       "      <td>exciting</td>\n",
       "      <td>0.130570</td>\n",
       "    </tr>\n",
       "    <tr>\n",
       "      <th>13</th>\n",
       "      <td>enjoy working</td>\n",
       "      <td>0.119923</td>\n",
       "    </tr>\n",
       "    <tr>\n",
       "      <th>14</th>\n",
       "      <td>games</td>\n",
       "      <td>0.119666</td>\n",
       "    </tr>\n",
       "    <tr>\n",
       "      <th>15</th>\n",
       "      <td>access</td>\n",
       "      <td>0.119044</td>\n",
       "    </tr>\n",
       "    <tr>\n",
       "      <th>16</th>\n",
       "      <td>using</td>\n",
       "      <td>0.116765</td>\n",
       "    </tr>\n",
       "    <tr>\n",
       "      <th>17</th>\n",
       "      <td>educational games</td>\n",
       "      <td>0.116024</td>\n",
       "    </tr>\n",
       "    <tr>\n",
       "      <th>18</th>\n",
       "      <td>instructional</td>\n",
       "      <td>0.116024</td>\n",
       "    </tr>\n",
       "    <tr>\n",
       "      <th>19</th>\n",
       "      <td>offered</td>\n",
       "      <td>0.116024</td>\n",
       "    </tr>\n",
       "  </tbody>\n",
       "</table>\n",
       "</div>"
      ],
      "text/plain": [
       "                  token  relevance\n",
       "0            chromebook   0.251673\n",
       "1              websites   0.230577\n",
       "2              computer   0.218609\n",
       "3       expose students   0.196446\n",
       "4           educational   0.174033\n",
       "5   technology students   0.171345\n",
       "6                expose   0.168447\n",
       "7        second graders   0.158732\n",
       "8              specific   0.156663\n",
       "9              internet   0.147786\n",
       "10                 play   0.144869\n",
       "11           technology   0.144053\n",
       "12             exciting   0.130570\n",
       "13        enjoy working   0.119923\n",
       "14                games   0.119666\n",
       "15               access   0.119044\n",
       "16                using   0.116765\n",
       "17    educational games   0.116024\n",
       "18        instructional   0.116024\n",
       "19              offered   0.116024"
      ]
     },
     "execution_count": 28,
     "metadata": {},
     "output_type": "execute_result"
    }
   ],
   "source": [
    "donor_id = don_df[don_df['Project ID'].isin(projects['Project ID'])]['Donor ID'].unique()[0]\n",
    "\n",
    "myprofile = donor_profiles[donor_id]\n",
    "print(myprofile.shape)\n",
    "print(donor_id)\n",
    "pd.DataFrame(sorted(zip(tfidf_feature_names, \n",
    "                        donor_profiles[donor_id].flatten().tolist()), key=lambda x: -x[1])[:20],\n",
    "             columns=['token', 'relevance'])"
   ]
  },
  {
   "cell_type": "code",
   "execution_count": null,
   "metadata": {},
   "outputs": [],
   "source": []
  },
  {
   "cell_type": "markdown",
   "metadata": {},
   "source": [
    "## References\n",
    "[1] Moreira, G (2017) Recommender Systems in Python 101 (Version 2.0) Kaggle    \n",
    "https://www.kaggle.com/gspmoreira/recommender-systems-in-python-101"
   ]
  },
  {
   "cell_type": "markdown",
   "metadata": {},
   "source": [
    "# Documenting Debugging"
   ]
  },
  {
   "cell_type": "markdown",
   "metadata": {},
   "source": [
    "### 0 is not in the list"
   ]
  },
  {
   "cell_type": "code",
   "execution_count": 54,
   "metadata": {},
   "outputs": [
    {
     "ename": "ValueError",
     "evalue": "'0' is not in list",
     "output_type": "error",
     "traceback": [
      "\u001b[1;31m---------------------------------------------------------------------------\u001b[0m",
      "\u001b[1;31mValueError\u001b[0m                                Traceback (most recent call last)",
      "\u001b[1;32m<ipython-input-54-9e80eb9811c3>\u001b[0m in \u001b[0;36m<module>\u001b[1;34m()\u001b[0m\n\u001b[0;32m      2\u001b[0m \u001b[0mdonor_id\u001b[0m \u001b[1;33m=\u001b[0m \u001b[0mdon_indexed_df\u001b[0m\u001b[1;33m.\u001b[0m\u001b[0mindex\u001b[0m\u001b[1;33m.\u001b[0m\u001b[0munique\u001b[0m\u001b[1;33m(\u001b[0m\u001b[1;33m)\u001b[0m\u001b[1;33m[\u001b[0m\u001b[1;36m0\u001b[0m\u001b[1;33m]\u001b[0m \u001b[1;31m# grab one example\u001b[0m\u001b[1;33m\u001b[0m\u001b[0m\n\u001b[0;32m      3\u001b[0m \u001b[0mdonations_donor_df\u001b[0m \u001b[1;33m=\u001b[0m \u001b[0mdon_indexed_df\u001b[0m\u001b[1;33m.\u001b[0m\u001b[0mloc\u001b[0m\u001b[1;33m[\u001b[0m\u001b[0mdonor_id\u001b[0m\u001b[1;33m]\u001b[0m\u001b[1;33m\u001b[0m\u001b[0m\n\u001b[1;32m----> 4\u001b[1;33m \u001b[0mdonor_project_profiles\u001b[0m \u001b[1;33m=\u001b[0m \u001b[0mget_project_profiles\u001b[0m\u001b[1;33m(\u001b[0m\u001b[0mdonations_donor_df\u001b[0m\u001b[1;33m[\u001b[0m\u001b[1;34m'Project ID'\u001b[0m\u001b[1;33m]\u001b[0m\u001b[1;33m)\u001b[0m\u001b[1;33m\u001b[0m\u001b[0m\n\u001b[0m\u001b[0;32m      5\u001b[0m \u001b[0mdon_indexed_df\u001b[0m\u001b[1;33m.\u001b[0m\u001b[0mloc\u001b[0m\u001b[1;33m[\u001b[0m\u001b[0mdonor_id\u001b[0m\u001b[1;33m]\u001b[0m\u001b[1;33m\u001b[0m\u001b[0m\n\u001b[0;32m      6\u001b[0m \u001b[0mdonations_donor_df\u001b[0m \u001b[1;33m=\u001b[0m \u001b[0mdon_indexed_df\u001b[0m\u001b[1;33m.\u001b[0m\u001b[0mloc\u001b[0m\u001b[1;33m[\u001b[0m\u001b[0mdonor_id\u001b[0m\u001b[1;33m]\u001b[0m\u001b[1;33m\u001b[0m\u001b[0m\n",
      "\u001b[1;32m<ipython-input-53-061ab790fc06>\u001b[0m in \u001b[0;36mget_project_profiles\u001b[1;34m(ids)\u001b[0m\n\u001b[0;32m     12\u001b[0m \u001b[1;33m\u001b[0m\u001b[0m\n\u001b[0;32m     13\u001b[0m \u001b[1;32mdef\u001b[0m \u001b[0mget_project_profiles\u001b[0m\u001b[1;33m(\u001b[0m\u001b[0mids\u001b[0m\u001b[1;33m)\u001b[0m\u001b[1;33m:\u001b[0m\u001b[1;33m\u001b[0m\u001b[0m\n\u001b[1;32m---> 14\u001b[1;33m     \u001b[0mproject_profiles_list\u001b[0m \u001b[1;33m=\u001b[0m \u001b[1;33m[\u001b[0m\u001b[0mget_project_profile\u001b[0m\u001b[1;33m(\u001b[0m\u001b[0mx\u001b[0m\u001b[1;33m)\u001b[0m \u001b[1;32mfor\u001b[0m \u001b[0mx\u001b[0m \u001b[1;32min\u001b[0m \u001b[0mids\u001b[0m\u001b[1;33m]\u001b[0m\u001b[1;33m\u001b[0m\u001b[0m\n\u001b[0m\u001b[0;32m     15\u001b[0m     \u001b[0mproject_profiles\u001b[0m \u001b[1;33m=\u001b[0m \u001b[0mscipy\u001b[0m\u001b[1;33m.\u001b[0m\u001b[0msparse\u001b[0m\u001b[1;33m.\u001b[0m\u001b[0mvstack\u001b[0m\u001b[1;33m(\u001b[0m\u001b[0mproject_profiles_list\u001b[0m\u001b[1;33m)\u001b[0m\u001b[1;33m\u001b[0m\u001b[0m\n\u001b[0;32m     16\u001b[0m     \u001b[1;32mreturn\u001b[0m \u001b[0mproject_profiles\u001b[0m\u001b[1;33m\u001b[0m\u001b[0m\n",
      "\u001b[1;32m<ipython-input-53-061ab790fc06>\u001b[0m in \u001b[0;36m<listcomp>\u001b[1;34m(.0)\u001b[0m\n\u001b[0;32m     12\u001b[0m \u001b[1;33m\u001b[0m\u001b[0m\n\u001b[0;32m     13\u001b[0m \u001b[1;32mdef\u001b[0m \u001b[0mget_project_profiles\u001b[0m\u001b[1;33m(\u001b[0m\u001b[0mids\u001b[0m\u001b[1;33m)\u001b[0m\u001b[1;33m:\u001b[0m\u001b[1;33m\u001b[0m\u001b[0m\n\u001b[1;32m---> 14\u001b[1;33m     \u001b[0mproject_profiles_list\u001b[0m \u001b[1;33m=\u001b[0m \u001b[1;33m[\u001b[0m\u001b[0mget_project_profile\u001b[0m\u001b[1;33m(\u001b[0m\u001b[0mx\u001b[0m\u001b[1;33m)\u001b[0m \u001b[1;32mfor\u001b[0m \u001b[0mx\u001b[0m \u001b[1;32min\u001b[0m \u001b[0mids\u001b[0m\u001b[1;33m]\u001b[0m\u001b[1;33m\u001b[0m\u001b[0m\n\u001b[0m\u001b[0;32m     15\u001b[0m     \u001b[0mproject_profiles\u001b[0m \u001b[1;33m=\u001b[0m \u001b[0mscipy\u001b[0m\u001b[1;33m.\u001b[0m\u001b[0msparse\u001b[0m\u001b[1;33m.\u001b[0m\u001b[0mvstack\u001b[0m\u001b[1;33m(\u001b[0m\u001b[0mproject_profiles_list\u001b[0m\u001b[1;33m)\u001b[0m\u001b[1;33m\u001b[0m\u001b[0m\n\u001b[0;32m     16\u001b[0m     \u001b[1;32mreturn\u001b[0m \u001b[0mproject_profiles\u001b[0m\u001b[1;33m\u001b[0m\u001b[0m\n",
      "\u001b[1;32m<ipython-input-53-061ab790fc06>\u001b[0m in \u001b[0;36mget_project_profile\u001b[1;34m(project_id)\u001b[0m\n\u001b[0;32m      7\u001b[0m \u001b[1;33m\u001b[0m\u001b[0m\n\u001b[0;32m      8\u001b[0m \u001b[1;32mdef\u001b[0m \u001b[0mget_project_profile\u001b[0m\u001b[1;33m(\u001b[0m\u001b[0mproject_id\u001b[0m\u001b[1;33m)\u001b[0m\u001b[1;33m:\u001b[0m\u001b[1;33m\u001b[0m\u001b[0m\n\u001b[1;32m----> 9\u001b[1;33m     \u001b[0midx\u001b[0m \u001b[1;33m=\u001b[0m \u001b[0mproject_ids\u001b[0m\u001b[1;33m.\u001b[0m\u001b[0mindex\u001b[0m\u001b[1;33m(\u001b[0m\u001b[0mproject_id\u001b[0m\u001b[1;33m)\u001b[0m\u001b[1;33m\u001b[0m\u001b[0m\n\u001b[0m\u001b[0;32m     10\u001b[0m     \u001b[0mproject_profile\u001b[0m \u001b[1;33m=\u001b[0m \u001b[0mtfidf_matrix\u001b[0m\u001b[1;33m[\u001b[0m\u001b[0midx\u001b[0m\u001b[1;33m:\u001b[0m\u001b[0midx\u001b[0m\u001b[1;33m+\u001b[0m\u001b[1;36m1\u001b[0m\u001b[1;33m]\u001b[0m\u001b[1;33m\u001b[0m\u001b[0m\n\u001b[0;32m     11\u001b[0m     \u001b[1;32mreturn\u001b[0m \u001b[0mproject_profile\u001b[0m\u001b[1;33m\u001b[0m\u001b[0m\n",
      "\u001b[1;31mValueError\u001b[0m: '0' is not in list"
     ]
    }
   ],
   "source": [
    "don_indexed_df = don_df[don_df['Project ID'].isin(projects['Project ID'])].set_index('Donor ID')\n",
    "donor_id = don_indexed_df.index.unique()[0] # grab one example\n",
    "donations_donor_df = don_indexed_df.loc[donor_id]\n",
    "donor_project_profiles = get_project_profiles(donations_donor_df['Project ID'])\n",
    "don_indexed_df.loc[donor_id]\n",
    "donations_donor_df = don_indexed_df.loc[donor_id]\n",
    "get_project_profiles(donations_donor_df['Project ID'])\n",
    "# We get the 0 is not in the list"
   ]
  },
  {
   "cell_type": "code",
   "execution_count": 55,
   "metadata": {},
   "outputs": [],
   "source": [
    "def get_project_profiles(ids):\n",
    "    project_profiles_list = [get_project_profile(x) for x in ids]\n",
    "    project_profiles = scipy.sparse.vstack(project_profiles_list)\n",
    "    return project_profiles"
   ]
  },
  {
   "cell_type": "code",
   "execution_count": 56,
   "metadata": {},
   "outputs": [
    {
     "name": "stdout",
     "output_type": "stream",
     "text": [
      "00589577d61473566a0d72e01ce2d523\n",
      "00589577d61473566a0d72e01ce2d523\n",
      "0\n",
      "0\n",
      "5\n",
      "8\n",
      "9\n",
      "5\n",
      "7\n",
      "7\n",
      "d\n",
      "6\n",
      "1\n",
      "4\n",
      "7\n",
      "3\n",
      "5\n",
      "6\n",
      "6\n",
      "a\n",
      "0\n",
      "d\n",
      "7\n",
      "2\n",
      "e\n",
      "0\n",
      "1\n",
      "c\n",
      "e\n",
      "2\n",
      "d\n",
      "5\n",
      "2\n",
      "3\n"
     ]
    }
   ],
   "source": [
    "print(donations_donor_df['Project ID'])\n",
    "\n",
    "# I see, the code breaks when you put in a string, becaseu it parses the string instead of parsing the list\n",
    "# You need to make sure that you only use those with frequent users\n",
    "for x in ['00589577d61473566a0d72e01ce2d523']: # passing a list\n",
    "    print(x)\n",
    "\n",
    "for x in '00589577d61473566a0d72e01ce2d523': # passing a string\n",
    "    print(x)"
   ]
  },
  {
   "cell_type": "markdown",
   "metadata": {},
   "source": [
    "### Ambiguous boolean\n",
    "    idx = project_ids.index(project_id)\n",
    "\n",
    "Breaks after printing this\n",
    "```\n",
    "Donor ID\n",
    "2144d56b1947ebb26a19e7f1d07c970a    006fb95c63fe9baedf6754b62e520e94\n",
    "2144d56b1947ebb26a19e7f1d07c970a    11191e5286b65b68e915e4781b878852\n",
    "2144d56b1947ebb26a19e7f1d07c970a    d4678b1a597c0afcf45e8b85af77749c\n",
    "Name: Project ID, dtype: object\n",
    "```\n",
    "\n",
    "Issue occurs because the table is not unique and setting the donor as the index when there are multilple copies of the same donor_id creates a multi index. This prevents the projects for each donor to be parsed.\n",
    "\n",
    "Second fix, change first fix:\n",
    "```\n",
    "get_project_profiles(list(donations_donor_df['Project ID'])] if \n",
    "                                                  type(donations_donor_df['Project ID']) else \n",
    "                                                  donations_donor_df['Project ID'])\n",
    "```\n",
    "into\n",
    "```\n",
    "get_project_profiles(list(donations_donor_df['Project ID']))\n",
    "```\n",
    "\n",
    "Unlike the first problem, I do not have the example code of the results breaking. I solved the problem and I do not have a backup of the mistakes from implementing Moreira's work. "
   ]
  },
  {
   "cell_type": "code",
   "execution_count": 57,
   "metadata": {},
   "outputs": [],
   "source": [
    "don_indexed_df = don_df[don_df['Project ID'].isin(projects['Project ID'])]"
   ]
  },
  {
   "cell_type": "code",
   "execution_count": 58,
   "metadata": {},
   "outputs": [],
   "source": [
    "donor_profiles = {}\n",
    "for donor_id in don_indexed_df['Donor ID'].unique():\n",
    "    donor_profiles[donor_id] = build_donors_profile(donor_id, don_indexed_df)"
   ]
  },
  {
   "cell_type": "code",
   "execution_count": 59,
   "metadata": {},
   "outputs": [],
   "source": [
    "for donor_id in don_indexed_df['Donor ID'].unique():\n",
    "    donations_donor_df = don_indexed_df[don_indexed_df['Donor ID'] == donor_id]\n",
    "    get_project_profiles(list(donations_donor_df['Project ID'])) # Had to add list"
   ]
  },
  {
   "cell_type": "code",
   "execution_count": 60,
   "metadata": {},
   "outputs": [
    {
     "data": {
      "text/plain": [
       "['04a068322915b71d0b728d7629ec16c8']"
      ]
     },
     "execution_count": 60,
     "metadata": {},
     "output_type": "execute_result"
    }
   ],
   "source": [
    "list(donations_donor_df['Project ID'])"
   ]
  },
  {
   "cell_type": "code",
   "execution_count": 61,
   "metadata": {},
   "outputs": [
    {
     "data": {
      "text/plain": [
       "63930    037719bf60853f234610458a210f45a9\n",
       "63932    037719bf60853f234610458a210f45a9\n",
       "63933    037719bf60853f234610458a210f45a9\n",
       "Name: Project ID, dtype: object"
      ]
     },
     "execution_count": 61,
     "metadata": {},
     "output_type": "execute_result"
    }
   ],
   "source": [
    "donor_id = '0d5b4cc12b2eb00013460d0ac38ce2a2'\n",
    "donations_donor_df = don_indexed_df[don_indexed_df['Donor ID'] == donor_id]\n",
    "donations_donor_df['Project ID']"
   ]
  },
  {
   "cell_type": "code",
   "execution_count": 62,
   "metadata": {},
   "outputs": [],
   "source": [
    "test = id_df.head(40)"
   ]
  },
  {
   "cell_type": "code",
   "execution_count": 63,
   "metadata": {},
   "outputs": [
    {
     "data": {
      "text/plain": [
       "37"
      ]
     },
     "execution_count": 63,
     "metadata": {},
     "output_type": "execute_result"
    }
   ],
   "source": [
    "# Duplicates make the set_index create a multiindex which breaks the code later on. \n",
    "len(test.set_index('Donor ID').index.unique())"
   ]
  }
 ],
 "metadata": {
  "kernelspec": {
   "display_name": "Python 3",
   "language": "python",
   "name": "python3"
  },
  "language_info": {
   "codemirror_mode": {
    "name": "ipython",
    "version": 3
   },
   "file_extension": ".py",
   "mimetype": "text/x-python",
   "name": "python",
   "nbconvert_exporter": "python",
   "pygments_lexer": "ipython3",
   "version": "3.6.5"
  }
 },
 "nbformat": 4,
 "nbformat_minor": 2
}
