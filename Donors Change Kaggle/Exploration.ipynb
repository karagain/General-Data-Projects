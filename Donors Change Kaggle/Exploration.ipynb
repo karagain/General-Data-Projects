{
 "cells": [
  {
   "cell_type": "markdown",
   "metadata": {},
   "source": [
    "# Introduction\n",
    "This notebook will explore the kaggle datasets in the [Donors Choose Challenge](https://www.kaggle.com/donorschoose/io)."
   ]
  },
  {
   "cell_type": "code",
   "execution_count": 1,
   "metadata": {},
   "outputs": [
    {
     "name": "stdout",
     "output_type": "stream",
     "text": [
      "['Donations.csv', 'Donors.csv', 'Projects.csv', 'Resources.csv', 'Schools.csv', 'Teachers.csv']\n"
     ]
    }
   ],
   "source": [
    "%matplotlib inline\n",
    "\n",
    "import pandas as pd\n",
    "import numpy as np\n",
    "import matplotlib.pyplot as plt\n",
    "\n",
    "import os\n",
    "print(os.listdir(\"../input\"))"
   ]
  },
  {
   "cell_type": "code",
   "execution_count": 2,
   "metadata": {},
   "outputs": [],
   "source": [
    "# Univariate Table Exploration\n",
    "def introexplore(csv):\n",
    "    print(csv.info())\n",
    "    \n",
    "    _, length = csv.shape\n",
    "    print('\\n', 'Dataset Dimensions')\n",
    "    print(_, length)\n",
    "\n",
    "    for i in range(length):\n",
    "        print('\\n', csv.columns[i])\n",
    "        print(csv.iloc[:, i].value_counts().head())"
   ]
  },
  {
   "cell_type": "markdown",
   "metadata": {},
   "source": [
    "# Donors Data Exploration"
   ]
  },
  {
   "cell_type": "code",
   "execution_count": 3,
   "metadata": {},
   "outputs": [
    {
     "name": "stderr",
     "output_type": "stream",
     "text": [
      "C:\\Users\\Karsten\\Anaconda3\\lib\\site-packages\\IPython\\core\\interactiveshell.py:2698: DtypeWarning: Columns (4) have mixed types. Specify dtype option on import or set low_memory=False.\n",
      "  interactivity=interactivity, compiler=compiler, result=result)\n"
     ]
    }
   ],
   "source": [
    "donors = pd.read_csv('../input/Donors.csv')\n",
    "donors_c = donors.copy() # cleaned dataframe"
   ]
  },
  {
   "cell_type": "code",
   "execution_count": 7,
   "metadata": {},
   "outputs": [
    {
     "name": "stdout",
     "output_type": "stream",
     "text": [
      "<class 'pandas.core.frame.DataFrame'>\n",
      "RangeIndex: 2122640 entries, 0 to 2122639\n",
      "Data columns (total 5 columns):\n",
      "Donor ID            object\n",
      "Donor City          object\n",
      "Donor State         object\n",
      "Donor Is Teacher    object\n",
      "Donor Zip           object\n",
      "dtypes: object(5)\n",
      "memory usage: 81.0+ MB\n",
      "None\n",
      "\n",
      " Dataset Dimensions\n",
      "2122640 5\n",
      "\n",
      " Donor ID\n",
      "1e3a15c1ef96a71a8bd404d2b3042a68    1\n",
      "df22196108b21169c345faeda2f19006    1\n",
      "0e4dc3605e4efca3218058a774ffbee3    1\n",
      "cafacc4a4c939998cadba3b7e89ba798    1\n",
      "1a9a509a83389081c8e131a57ef2781c    1\n",
      "Name: Donor ID, dtype: int64\n",
      "\n",
      " Donor City\n",
      "Chicago          34352\n",
      "New York         27863\n",
      "Brooklyn         22330\n",
      "Los Angeles      18320\n",
      "San Francisco    16925\n",
      "Name: Donor City, dtype: int64\n",
      "\n",
      " Donor State\n",
      "California    294695\n",
      "New York      137957\n",
      "Texas         134449\n",
      "Florida       108828\n",
      "other         107809\n",
      "Name: Donor State, dtype: int64\n",
      "\n",
      " Donor Is Teacher\n",
      "No     1910355\n",
      "Yes     212285\n",
      "Name: Donor Is Teacher, dtype: int64\n",
      "\n",
      " Donor Zip\n",
      "606    34628\n",
      "945    31408\n",
      "100    26461\n",
      "112    21862\n",
      "900    18448\n",
      "Name: Donor Zip, dtype: int64\n"
     ]
    }
   ],
   "source": [
    "introexplore(donors)"
   ]
  },
  {
   "cell_type": "markdown",
   "metadata": {},
   "source": [
    "From this we can see infer that:\n",
    "- The first column is unique for every donor. This is the primary key.\n",
    "- Majority of donors from a single city are from Chicago, about the same size as 4, 5 combined.\n",
    "- The state that donates the most is California\n",
    "- Most of the donors are not teachers\n",
    "- The zip codes show that the most donations again is from Chicago. It is odd how there are more donors with the 606 zip code than there are people. "
   ]
  },
  {
   "cell_type": "markdown",
   "metadata": {},
   "source": [
    "### Checking Zipcode and City data disconnect"
   ]
  },
  {
   "cell_type": "code",
   "execution_count": 8,
   "metadata": {},
   "outputs": [
    {
     "data": {
      "text/plain": [
       "Chicago    409\n",
       "Name: Donor City, dtype: int64"
      ]
     },
     "execution_count": 8,
     "metadata": {},
     "output_type": "execute_result"
    }
   ],
   "source": [
    "# Check whether the zipcode and city difference are correct.\n",
    "donors.loc[donors['Donor Zip'] == 606 , 'Donor City'].value_counts()"
   ]
  },
  {
   "cell_type": "code",
   "execution_count": 9,
   "metadata": {},
   "outputs": [
    {
     "data": {
      "text/plain": [
       "606    34628\n",
       "945    31408\n",
       "100    26461\n",
       "112    21862\n",
       "900    18448\n",
       "Name: Donor Zip, dtype: int64"
      ]
     },
     "execution_count": 9,
     "metadata": {},
     "output_type": "execute_result"
    }
   ],
   "source": [
    "donors['Donor Zip'].value_counts().head()"
   ]
  },
  {
   "cell_type": "code",
   "execution_count": 10,
   "metadata": {},
   "outputs": [
    {
     "data": {
      "text/plain": [
       "Illinois         414\n",
       "other              2\n",
       "Wisconsin          2\n",
       "Massachusetts      1\n",
       "Name: Donor State, dtype: int64"
      ]
     },
     "execution_count": 10,
     "metadata": {},
     "output_type": "execute_result"
    }
   ],
   "source": [
    "donors[donors['Donor Zip'] == 606 ]['Donor State'].value_counts()"
   ]
  },
  {
   "cell_type": "markdown",
   "metadata": {},
   "source": [
    "This is odd, not only am I not seeing all of the 34628 results that I was expecting, but there were other states excluding Illinois that had the zipcode of 606. The zip may not match the city, and the city may not match the state. I'll move on. "
   ]
  },
  {
   "cell_type": "code",
   "execution_count": 11,
   "metadata": {},
   "outputs": [
    {
     "data": {
      "text/plain": [
       "Illinois      33998\n",
       "other           200\n",
       "California       42\n",
       "Michigan         34\n",
       "New York         32\n",
       "Name: Donor State, dtype: int64"
      ]
     },
     "execution_count": 11,
     "metadata": {},
     "output_type": "execute_result"
    }
   ],
   "source": [
    "donors[donors['Donor Zip'] == '606' ]['Donor State'].value_counts().head()"
   ]
  },
  {
   "cell_type": "markdown",
   "metadata": {},
   "source": [
    "The reason for the second mismatch is due to the difference in data types. There are both floats and strings. This needs to be corrected.\n",
    "#### Code\n",
    "Convert Donor Zip to a uniform datatype"
   ]
  },
  {
   "cell_type": "code",
   "execution_count": 12,
   "metadata": {},
   "outputs": [],
   "source": [
    "donors_c['Donor Zip'] = donors_c['Donor Zip'].astype(str)"
   ]
  },
  {
   "cell_type": "code",
   "execution_count": 13,
   "metadata": {},
   "outputs": [
    {
     "data": {
      "text/plain": [
       "Series([], Name: Donor State, dtype: int64)"
      ]
     },
     "execution_count": 13,
     "metadata": {},
     "output_type": "execute_result"
    }
   ],
   "source": [
    "donors_c[donors_c['Donor Zip'] == 606 ]['Donor State'].value_counts()"
   ]
  },
  {
   "cell_type": "code",
   "execution_count": 14,
   "metadata": {},
   "outputs": [
    {
     "data": {
      "text/plain": [
       "Illinois      33998\n",
       "other           200\n",
       "California       42\n",
       "Michigan         34\n",
       "New York         32\n",
       "Name: Donor State, dtype: int64"
      ]
     },
     "execution_count": 14,
     "metadata": {},
     "output_type": "execute_result"
    }
   ],
   "source": [
    "donors_c[donors_c['Donor Zip'] == '606' ]['Donor State'].value_counts().head()"
   ]
  },
  {
   "cell_type": "markdown",
   "metadata": {},
   "source": [
    "The issue is not corrected as Illionois still has 33998 entries. "
   ]
  },
  {
   "cell_type": "code",
   "execution_count": 15,
   "metadata": {},
   "outputs": [
    {
     "data": {
      "text/html": [
       "<div>\n",
       "<style>\n",
       "    .dataframe thead tr:only-child th {\n",
       "        text-align: right;\n",
       "    }\n",
       "\n",
       "    .dataframe thead th {\n",
       "        text-align: left;\n",
       "    }\n",
       "\n",
       "    .dataframe tbody tr th {\n",
       "        vertical-align: top;\n",
       "    }\n",
       "</style>\n",
       "<table border=\"1\" class=\"dataframe\">\n",
       "  <thead>\n",
       "    <tr style=\"text-align: right;\">\n",
       "      <th></th>\n",
       "      <th>Donor ID</th>\n",
       "      <th>Donor City</th>\n",
       "      <th>Donor State</th>\n",
       "      <th>Donor Is Teacher</th>\n",
       "      <th>Donor Zip</th>\n",
       "    </tr>\n",
       "  </thead>\n",
       "  <tbody>\n",
       "    <tr>\n",
       "      <th>2097169</th>\n",
       "      <td>fcec355708107df1c0f328efc9255f48</td>\n",
       "      <td>Chicago</td>\n",
       "      <td>Illinois</td>\n",
       "      <td>No</td>\n",
       "      <td>606</td>\n",
       "    </tr>\n",
       "    <tr>\n",
       "      <th>2097247</th>\n",
       "      <td>fcee706a53fe736b3a890997f6c5d02b</td>\n",
       "      <td>Chicago</td>\n",
       "      <td>Illinois</td>\n",
       "      <td>No</td>\n",
       "      <td>606</td>\n",
       "    </tr>\n",
       "    <tr>\n",
       "      <th>2097256</th>\n",
       "      <td>fceecae4aad15bd1abe705842fdf6f7c</td>\n",
       "      <td>Chicago</td>\n",
       "      <td>Illinois</td>\n",
       "      <td>Yes</td>\n",
       "      <td>606</td>\n",
       "    </tr>\n",
       "    <tr>\n",
       "      <th>2097314</th>\n",
       "      <td>fcf02f40fb757d37f8130b9538340c18</td>\n",
       "      <td>Chicago</td>\n",
       "      <td>Illinois</td>\n",
       "      <td>No</td>\n",
       "      <td>606</td>\n",
       "    </tr>\n",
       "    <tr>\n",
       "      <th>2097378</th>\n",
       "      <td>fcf217a4ea8117c3c8e3759f96f75c4f</td>\n",
       "      <td>Chicago</td>\n",
       "      <td>Wisconsin</td>\n",
       "      <td>No</td>\n",
       "      <td>606</td>\n",
       "    </tr>\n",
       "  </tbody>\n",
       "</table>\n",
       "</div>"
      ],
      "text/plain": [
       "                                 Donor ID Donor City Donor State  \\\n",
       "2097169  fcec355708107df1c0f328efc9255f48    Chicago    Illinois   \n",
       "2097247  fcee706a53fe736b3a890997f6c5d02b    Chicago    Illinois   \n",
       "2097256  fceecae4aad15bd1abe705842fdf6f7c    Chicago    Illinois   \n",
       "2097314  fcf02f40fb757d37f8130b9538340c18    Chicago    Illinois   \n",
       "2097378  fcf217a4ea8117c3c8e3759f96f75c4f    Chicago   Wisconsin   \n",
       "\n",
       "        Donor Is Teacher Donor Zip  \n",
       "2097169               No       606  \n",
       "2097247               No       606  \n",
       "2097256              Yes       606  \n",
       "2097314               No       606  \n",
       "2097378               No       606  "
      ]
     },
     "execution_count": 15,
     "metadata": {},
     "output_type": "execute_result"
    }
   ],
   "source": [
    "# find a positive 606 value in original dataset\n",
    "donors[donors['Donor Zip'] == 606 ].head()"
   ]
  },
  {
   "cell_type": "code",
   "execution_count": 16,
   "metadata": {},
   "outputs": [
    {
     "data": {
      "text/plain": [
       "Donor ID            fcec355708107df1c0f328efc9255f48\n",
       "Donor City                                   Chicago\n",
       "Donor State                                 Illinois\n",
       "Donor Is Teacher                                  No\n",
       "Donor Zip                                      606.0\n",
       "Name: 2097169, dtype: object"
      ]
     },
     "execution_count": 16,
     "metadata": {},
     "output_type": "execute_result"
    }
   ],
   "source": [
    "# Pull up the same value in the \"cleaned\" dataset\n",
    "donors_c.iloc[2097169, :]\n"
   ]
  },
  {
   "cell_type": "code",
   "execution_count": 17,
   "metadata": {},
   "outputs": [
    {
     "data": {
      "text/plain": [
       "'606.0'"
      ]
     },
     "execution_count": 17,
     "metadata": {},
     "output_type": "execute_result"
    }
   ],
   "source": [
    "donors_c.iloc[2097169, 4]"
   ]
  },
  {
   "cell_type": "markdown",
   "metadata": {},
   "source": [
    "The issue that we have now is that the float was converted to a string, but it still has the .0 around the number.     \n",
    "To bypass this issue, I will convert the original series to integers before converting the results to a string. "
   ]
  },
  {
   "cell_type": "code",
   "execution_count": 18,
   "metadata": {},
   "outputs": [
    {
     "name": "stdout",
     "output_type": "stream",
     "text": [
      "ValueError: invalid literal for int() with base 10: 'nan'\n"
     ]
    }
   ],
   "source": [
    "try:\n",
    "    donors_c['Donor Zip'] = donors_c['Donor Zip'].astype(int).astype(str)\n",
    "except:\n",
    "    print(\"ValueError: invalid literal for int() with base 10: 'nan'\")"
   ]
  },
  {
   "cell_type": "markdown",
   "metadata": {},
   "source": [
    "Another issue that arises is that now we have NaN that cannot be converted to integers. I will check out those datapoints. \n",
    "\n",
    "What I want to do is\n",
    "if the value is a float, convert it into an integer to remove the .0 and then convert that into a string\n",
    "\n",
    "I could also just directly convert the results into a string, and remove all .0. "
   ]
  },
  {
   "cell_type": "code",
   "execution_count": 19,
   "metadata": {},
   "outputs": [],
   "source": [
    "donors_c = donors.copy()"
   ]
  },
  {
   "cell_type": "code",
   "execution_count": 20,
   "metadata": {},
   "outputs": [
    {
     "data": {
      "text/plain": [
       "962.0    1\n",
       "969.0    1\n",
       "127.0    1\n",
       "NG2      1\n",
       "T3H      1\n",
       "E2E      1\n",
       "192      1\n",
       "NC       1\n",
       "896      1\n",
       "n19      1\n",
       "311.0    1\n",
       "N3L      1\n",
       "533      1\n",
       "V4C      1\n",
       "CB3      1\n",
       "V3J      1\n",
       "518      1\n",
       "N6J      1\n",
       "143.0    1\n",
       "V7J      1\n",
       "Name: Donor Zip, dtype: int64"
      ]
     },
     "execution_count": 20,
     "metadata": {},
     "output_type": "execute_result"
    }
   ],
   "source": [
    "donors_c.loc[donors_c['Donor Zip'].notnull(), 'Donor Zip'].value_counts().tail(20)"
   ]
  },
  {
   "cell_type": "code",
   "execution_count": 7,
   "metadata": {},
   "outputs": [
    {
     "data": {
      "text/html": [
       "<div>\n",
       "<style>\n",
       "    .dataframe thead tr:only-child th {\n",
       "        text-align: right;\n",
       "    }\n",
       "\n",
       "    .dataframe thead th {\n",
       "        text-align: left;\n",
       "    }\n",
       "\n",
       "    .dataframe tbody tr th {\n",
       "        vertical-align: top;\n",
       "    }\n",
       "</style>\n",
       "<table border=\"1\" class=\"dataframe\">\n",
       "  <thead>\n",
       "    <tr style=\"text-align: right;\">\n",
       "      <th></th>\n",
       "      <th>Donor ID</th>\n",
       "      <th>Donor City</th>\n",
       "      <th>Donor State</th>\n",
       "      <th>Donor Is Teacher</th>\n",
       "      <th>Donor Zip</th>\n",
       "    </tr>\n",
       "  </thead>\n",
       "  <tbody>\n",
       "    <tr>\n",
       "      <th>1202049</th>\n",
       "      <td>90eca78b60eb64dae6fd284c7f0058eb</td>\n",
       "      <td>NaN</td>\n",
       "      <td>other</td>\n",
       "      <td>No</td>\n",
       "      <td>n19</td>\n",
       "    </tr>\n",
       "  </tbody>\n",
       "</table>\n",
       "</div>"
      ],
      "text/plain": [
       "                                 Donor ID Donor City Donor State  \\\n",
       "1202049  90eca78b60eb64dae6fd284c7f0058eb        NaN       other   \n",
       "\n",
       "        Donor Is Teacher Donor Zip  \n",
       "1202049               No       n19  "
      ]
     },
     "execution_count": 7,
     "metadata": {},
     "output_type": "execute_result"
    }
   ],
   "source": [
    "donors_c.loc[donors_c['Donor Zip']== 'n19', :]"
   ]
  },
  {
   "cell_type": "markdown",
   "metadata": {},
   "source": [
    "After looking at the results of all the mistyped data, it would be too much of a hassle to complete, and the minor difference in certain cities would be negligible. In addition there are zip codes that are mixed with letters and numbers. The extra error from using the zipcode as a predictive feature could be mitigated by using the cities, or the fact that zipcodes are unique and will be a categorical variable. \n",
    "\n",
    "With that said, I will remove the donors clean dataset to free up space."
   ]
  },
  {
   "cell_type": "code",
   "execution_count": 21,
   "metadata": {},
   "outputs": [],
   "source": [
    "del donors_c"
   ]
  },
  {
   "cell_type": "markdown",
   "metadata": {},
   "source": [
    "### Are Teachers more likely to Donate?\n",
    "Wise geek quotes BLS (Bureau Labor Statistics) of the US that teachers comprise 2% of the US population. [Link](http://www.wisegeek.com/what-percent-of-the-us-population-do-teachers-comprise.htm)    \n",
    "But in the result below, we see that 10% of the donors are teachers. This five times the amount relative to the US population. "
   ]
  },
  {
   "cell_type": "code",
   "execution_count": 22,
   "metadata": {},
   "outputs": [
    {
     "name": "stdout",
     "output_type": "stream",
     "text": [
      "No     0.89999\n",
      "Yes    0.10001\n",
      "Name: Donor Is Teacher, dtype: float64\n"
     ]
    }
   ],
   "source": [
    "prop = donors['Donor Is Teacher'].value_counts(normalize=True)\n",
    "print(prop)"
   ]
  },
  {
   "cell_type": "code",
   "execution_count": 23,
   "metadata": {},
   "outputs": [
    {
     "data": {
      "image/png": "[encoded data removed]",
      "text/plain": [
       "<Figure size 432x288 with 1 Axes>"
      ]
     },
     "metadata": {},
     "output_type": "display_data"
    }
   ],
   "source": [
    "prop.plot(kind='bar')\n",
    "plt.title('Is the Donor a Teacher?')\n",
    "plt.show()"
   ]
  },
  {
   "cell_type": "code",
   "execution_count": 24,
   "metadata": {},
   "outputs": [
    {
     "data": {
      "text/plain": [
       "Donor ID            180060\n",
       "Donor City               0\n",
       "Donor State         180060\n",
       "Donor Is Teacher    180060\n",
       "Donor Zip                0\n",
       "dtype: int64"
      ]
     },
     "execution_count": 24,
     "metadata": {},
     "output_type": "execute_result"
    }
   ],
   "source": [
    "donors[donors['Donor Zip'].isnull()].count()"
   ]
  },
  {
   "cell_type": "markdown",
   "metadata": {},
   "source": [
    "From this we can see that there are 180060 anonymous donations. This is likely a dead end, there are a lot of anonymous donations. \n",
    "\n",
    "Out of curiousity I looked to see if there were any difference in anonymous locations and the donor being a teacher. Apparently more of the donors were teachers. They were about 50% more likely to be a teacher if they had an anonymous location. \n",
    "\n",
    "It was also interesting that though the city and the zip code were omitted, around 50% of the state information was still held. "
   ]
  },
  {
   "cell_type": "code",
   "execution_count": 25,
   "metadata": {},
   "outputs": [
    {
     "data": {
      "text/plain": [
       "No     0.841125\n",
       "Yes    0.158875\n",
       "Name: Donor Is Teacher, dtype: float64"
      ]
     },
     "execution_count": 25,
     "metadata": {},
     "output_type": "execute_result"
    }
   ],
   "source": [
    "prop = donors.loc[donors['Donor Zip'].isnull(), 'Donor Is Teacher'].value_counts(normalize=True)\n",
    "prop"
   ]
  },
  {
   "cell_type": "code",
   "execution_count": 26,
   "metadata": {},
   "outputs": [
    {
     "data": {
      "image/png": "[encoded data removed]",
      "text/plain": [
       "<Figure size 432x288 with 1 Axes>"
      ]
     },
     "metadata": {},
     "output_type": "display_data"
    }
   ],
   "source": [
    "prop.plot(kind='bar')\n",
    "plt.title('Anonymous location, Is the Donor a Teacher?')\n",
    "plt.show()"
   ]
  },
  {
   "cell_type": "code",
   "execution_count": 27,
   "metadata": {},
   "outputs": [
    {
     "data": {
      "text/plain": [
       "other         0.514701\n",
       "California    0.079285\n",
       "Texas         0.035233\n",
       "New York      0.033844\n",
       "Illinois      0.025964\n",
       "Name: Donor State, dtype: float64"
      ]
     },
     "execution_count": 27,
     "metadata": {},
     "output_type": "execute_result"
    }
   ],
   "source": [
    "donors.loc[donors['Donor Zip'].isnull(), 'Donor State'].value_counts(normalize=True).head()"
   ]
  },
  {
   "cell_type": "markdown",
   "metadata": {},
   "source": [
    "### Donors Location Visualization"
   ]
  },
  {
   "cell_type": "code",
   "execution_count": 28,
   "metadata": {},
   "outputs": [
    {
     "data": {
      "image/png": "[encoded data removed]",
      "text/plain": [
       "<Figure size 432x288 with 1 Axes>"
      ]
     },
     "metadata": {},
     "output_type": "display_data"
    }
   ],
   "source": [
    "donors['Donor City'].value_counts().head(20).plot(kind='barh')\n",
    "plt.title('Top 20 Cities with most Donors')\n",
    "plt.xlabel('Number of Donors')\n",
    "plt.gca().invert_yaxis()"
   ]
  },
  {
   "cell_type": "code",
   "execution_count": 29,
   "metadata": {},
   "outputs": [
    {
     "data": {
      "image/png": "[encoded data removed]",
      "text/plain": [
       "<Figure size 432x288 with 1 Axes>"
      ]
     },
     "metadata": {},
     "output_type": "display_data"
    }
   ],
   "source": [
    "donors['Donor State'].value_counts().head(20).plot(kind='barh')\n",
    "plt.title('Top 20 States with most Donors')\n",
    "plt.xlabel('Number of Donors')\n",
    "plt.gca().invert_yaxis()"
   ]
  },
  {
   "cell_type": "code",
   "execution_count": 30,
   "metadata": {},
   "outputs": [],
   "source": [
    "%reset"
   ]
  },
  {
   "cell_type": "markdown",
   "metadata": {},
   "source": [
    "# Donations Data Exploration\n",
    "This dataset contains information about donations made, the amount, the project ID, the Donor ID, and other metadata.\n",
    "\n",
    "We will look to see where donors donate to, and try to connect this to any other articles that have theory to explain any relationships between donations and donors. "
   ]
  },
  {
   "cell_type": "code",
   "execution_count": 31,
   "metadata": {},
   "outputs": [
    {
     "name": "stdout",
     "output_type": "stream",
     "text": [
      "['Donations.csv', 'Donors.csv', 'Projects.csv', 'Resources.csv', 'Schools.csv', 'Teachers.csv']\n"
     ]
    }
   ],
   "source": [
    "%matplotlib inline\n",
    "\n",
    "import pandas as pd\n",
    "import numpy as np\n",
    "import matplotlib.pyplot as plt\n",
    "\n",
    "import os\n",
    "print(os.listdir(\"../input\"))"
   ]
  },
  {
   "cell_type": "code",
   "execution_count": 32,
   "metadata": {},
   "outputs": [
    {
     "data": {
      "text/plain": [
       "Index(['Project ID', 'Donation ID', 'Donor ID',\n",
       "       'Donation Included Optional Donation', 'Donation Amount',\n",
       "       'Donor Cart Sequence', 'Donation Received Date'],\n",
       "      dtype='object')"
      ]
     },
     "execution_count": 32,
     "metadata": {},
     "output_type": "execute_result"
    }
   ],
   "source": [
    "donations = pd.read_csv('../input/Donations.csv')\n",
    "donations.columns"
   ]
  },
  {
   "cell_type": "code",
   "execution_count": 33,
   "metadata": {},
   "outputs": [
    {
     "data": {
      "text/html": [
       "<div>\n",
       "<style>\n",
       "    .dataframe thead tr:only-child th {\n",
       "        text-align: right;\n",
       "    }\n",
       "\n",
       "    .dataframe thead th {\n",
       "        text-align: left;\n",
       "    }\n",
       "\n",
       "    .dataframe tbody tr th {\n",
       "        vertical-align: top;\n",
       "    }\n",
       "</style>\n",
       "<table border=\"1\" class=\"dataframe\">\n",
       "  <thead>\n",
       "    <tr style=\"text-align: right;\">\n",
       "      <th></th>\n",
       "      <th>Project ID</th>\n",
       "      <th>Donation ID</th>\n",
       "      <th>Donor ID</th>\n",
       "      <th>Donation Included Optional Donation</th>\n",
       "      <th>Donation Amount</th>\n",
       "      <th>Donor Cart Sequence</th>\n",
       "      <th>Donation Received Date</th>\n",
       "    </tr>\n",
       "  </thead>\n",
       "  <tbody>\n",
       "    <tr>\n",
       "      <th>0</th>\n",
       "      <td>000009891526c0ade7180f8423792063</td>\n",
       "      <td>688729120858666221208529ee3fc18e</td>\n",
       "      <td>1f4b5b6e68445c6c4a0509b3aca93f38</td>\n",
       "      <td>No</td>\n",
       "      <td>178.37</td>\n",
       "      <td>11</td>\n",
       "      <td>2016-08-23 13:15:57</td>\n",
       "    </tr>\n",
       "    <tr>\n",
       "      <th>1</th>\n",
       "      <td>000009891526c0ade7180f8423792063</td>\n",
       "      <td>dcf1071da3aa3561f91ac689d1f73dee</td>\n",
       "      <td>4aaab6d244bf3599682239ed5591af8a</td>\n",
       "      <td>Yes</td>\n",
       "      <td>25.00</td>\n",
       "      <td>2</td>\n",
       "      <td>2016-06-06 20:05:23</td>\n",
       "    </tr>\n",
       "    <tr>\n",
       "      <th>2</th>\n",
       "      <td>000009891526c0ade7180f8423792063</td>\n",
       "      <td>18a234b9d1e538c431761d521ea7799d</td>\n",
       "      <td>0b0765dc9c759adc48a07688ba25e94e</td>\n",
       "      <td>Yes</td>\n",
       "      <td>20.00</td>\n",
       "      <td>3</td>\n",
       "      <td>2016-06-06 14:08:46</td>\n",
       "    </tr>\n",
       "    <tr>\n",
       "      <th>3</th>\n",
       "      <td>000009891526c0ade7180f8423792063</td>\n",
       "      <td>38d2744bf9138b0b57ed581c76c0e2da</td>\n",
       "      <td>377944ad61f72d800b25ec1862aec363</td>\n",
       "      <td>Yes</td>\n",
       "      <td>25.00</td>\n",
       "      <td>1</td>\n",
       "      <td>2016-05-15 10:23:04</td>\n",
       "    </tr>\n",
       "    <tr>\n",
       "      <th>4</th>\n",
       "      <td>000009891526c0ade7180f8423792063</td>\n",
       "      <td>5a032791e31167a70206bfb86fb60035</td>\n",
       "      <td>6d5b22d39e68c656071a842732c63a0c</td>\n",
       "      <td>Yes</td>\n",
       "      <td>25.00</td>\n",
       "      <td>2</td>\n",
       "      <td>2016-05-17 01:23:38</td>\n",
       "    </tr>\n",
       "  </tbody>\n",
       "</table>\n",
       "</div>"
      ],
      "text/plain": [
       "                         Project ID                       Donation ID  \\\n",
       "0  000009891526c0ade7180f8423792063  688729120858666221208529ee3fc18e   \n",
       "1  000009891526c0ade7180f8423792063  dcf1071da3aa3561f91ac689d1f73dee   \n",
       "2  000009891526c0ade7180f8423792063  18a234b9d1e538c431761d521ea7799d   \n",
       "3  000009891526c0ade7180f8423792063  38d2744bf9138b0b57ed581c76c0e2da   \n",
       "4  000009891526c0ade7180f8423792063  5a032791e31167a70206bfb86fb60035   \n",
       "\n",
       "                           Donor ID Donation Included Optional Donation  \\\n",
       "0  1f4b5b6e68445c6c4a0509b3aca93f38                                  No   \n",
       "1  4aaab6d244bf3599682239ed5591af8a                                 Yes   \n",
       "2  0b0765dc9c759adc48a07688ba25e94e                                 Yes   \n",
       "3  377944ad61f72d800b25ec1862aec363                                 Yes   \n",
       "4  6d5b22d39e68c656071a842732c63a0c                                 Yes   \n",
       "\n",
       "   Donation Amount  Donor Cart Sequence Donation Received Date  \n",
       "0           178.37                   11    2016-08-23 13:15:57  \n",
       "1            25.00                    2    2016-06-06 20:05:23  \n",
       "2            20.00                    3    2016-06-06 14:08:46  \n",
       "3            25.00                    1    2016-05-15 10:23:04  \n",
       "4            25.00                    2    2016-05-17 01:23:38  "
      ]
     },
     "execution_count": 33,
     "metadata": {},
     "output_type": "execute_result"
    }
   ],
   "source": [
    "donations.head()"
   ]
  },
  {
   "cell_type": "code",
   "execution_count": 34,
   "metadata": {},
   "outputs": [
    {
     "name": "stdout",
     "output_type": "stream",
     "text": [
      "Shape\n",
      "4687884 7\n",
      "\n",
      " Project ID\n",
      "c34218abf3fecd36be01305d67ed7fbb    863\n",
      "d6a260b9099aabdac7f5cb620c7481e6    663\n",
      "a720b2e32df79c52f8926bb00060b3f6    631\n",
      "a7028bc2602104e658ef72db1b9ca520    600\n",
      "ea99d0493c7c668890eca8f7a8b38fb9    538\n",
      "Name: Project ID, dtype: int64\n",
      "\n",
      " Donation ID\n",
      "934a389700b9724c581f7b0d999f61c0    2\n",
      "ec7fedbc05656a1675898e325598101a    2\n",
      "d93a8bb381345d10c75aa6e590eae257    2\n",
      "743f2ee0afd4de20f2b519768ce170c7    2\n",
      "db4e7e6139d5fcd9bca691de1aa212f6    2\n",
      "Name: Donation ID, dtype: int64\n",
      "\n",
      " Donor ID\n",
      "39df9399f5384334a42905bcf0acdcbf    18035\n",
      "237db43817f34988f9d543ca518be4ee    14565\n",
      "a0e1d358aa17745ff3d3f4e4909356f3    10515\n",
      "6f74ffb17cbb2b616b1eef06bd4acd0c     9029\n",
      "a1929a1172ad0b3d14bc84f54018c563     6427\n",
      "Name: Donor ID, dtype: int64\n",
      "\n",
      " Donation Included Optional Donation\n",
      "Yes    4001709\n",
      "No      686175\n",
      "Name: Donation Included Optional Donation, dtype: int64\n",
      "\n",
      " Donation Amount\n",
      "25.0     915951\n",
      "50.0     809289\n",
      "10.0     446984\n",
      "1.0      354055\n",
      "100.0    333150\n",
      "Name: Donation Amount, dtype: int64\n",
      "\n",
      " Donor Cart Sequence\n",
      "1    1885994\n",
      "2     571213\n",
      "3     298064\n",
      "4     194252\n",
      "5     140999\n",
      "Name: Donor Cart Sequence, dtype: int64\n",
      "\n",
      " Donation Received Date\n",
      "2018-03-08 12:51:27    72\n",
      "2018-01-02 10:26:00    57\n",
      "2018-03-08 12:51:28    53\n",
      "2017-12-13 21:20:04    45\n",
      "2017-11-28 22:06:48    45\n",
      "Name: Donation Received Date, dtype: int64\n"
     ]
    }
   ],
   "source": [
    "# Univariate Table Exploration\n",
    "\n",
    "_, length = donations.shape\n",
    "print('Shape')\n",
    "print(_, length)\n",
    "\n",
    "for i in range(length):\n",
    "    print('\\n', donations.columns[i])\n",
    "    print(donations.iloc[:, i].value_counts().head())"
   ]
  },
  {
   "cell_type": "markdown",
   "metadata": {},
   "source": [
    "## Donors and their Donations\n",
    "We can see which donors donate the most by aggregating the count of their ID and compare that to their project ID as well as finding out their demographics. \n",
    "\n",
    "I want the first column to be the donor id, the second column to the count of donations, and the third column to be the total amount of money donated. "
   ]
  },
  {
   "cell_type": "code",
   "execution_count": 35,
   "metadata": {},
   "outputs": [
    {
     "data": {
      "text/html": [
       "<div>\n",
       "<style>\n",
       "    .dataframe thead tr:only-child th {\n",
       "        text-align: right;\n",
       "    }\n",
       "\n",
       "    .dataframe thead th {\n",
       "        text-align: left;\n",
       "    }\n",
       "\n",
       "    .dataframe tbody tr th {\n",
       "        vertical-align: top;\n",
       "    }\n",
       "</style>\n",
       "<table border=\"1\" class=\"dataframe\">\n",
       "  <thead>\n",
       "    <tr style=\"text-align: right;\">\n",
       "      <th></th>\n",
       "      <th>count</th>\n",
       "      <th>sum</th>\n",
       "    </tr>\n",
       "    <tr>\n",
       "      <th>Donor ID</th>\n",
       "      <th></th>\n",
       "      <th></th>\n",
       "    </tr>\n",
       "  </thead>\n",
       "  <tbody>\n",
       "    <tr>\n",
       "      <th>39df9399f5384334a42905bcf0acdcbf</th>\n",
       "      <td>18035</td>\n",
       "      <td>37121.72</td>\n",
       "    </tr>\n",
       "    <tr>\n",
       "      <th>237db43817f34988f9d543ca518be4ee</th>\n",
       "      <td>14565</td>\n",
       "      <td>84625.62</td>\n",
       "    </tr>\n",
       "    <tr>\n",
       "      <th>a0e1d358aa17745ff3d3f4e4909356f3</th>\n",
       "      <td>10515</td>\n",
       "      <td>1879624.97</td>\n",
       "    </tr>\n",
       "    <tr>\n",
       "      <th>6f74ffb17cbb2b616b1eef06bd4acd0c</th>\n",
       "      <td>9029</td>\n",
       "      <td>9436.00</td>\n",
       "    </tr>\n",
       "    <tr>\n",
       "      <th>a1929a1172ad0b3d14bc84f54018c563</th>\n",
       "      <td>6427</td>\n",
       "      <td>28282.87</td>\n",
       "    </tr>\n",
       "    <tr>\n",
       "      <th>19f24640d9da49f6f8b4c9938c049591</th>\n",
       "      <td>6153</td>\n",
       "      <td>33387.68</td>\n",
       "    </tr>\n",
       "    <tr>\n",
       "      <th>24ecca49933c30a0beb83090591720c0</th>\n",
       "      <td>5688</td>\n",
       "      <td>40907.85</td>\n",
       "    </tr>\n",
       "    <tr>\n",
       "      <th>6a35a7514005c04f8520e5d8f7657d91</th>\n",
       "      <td>5494</td>\n",
       "      <td>28219.41</td>\n",
       "    </tr>\n",
       "    <tr>\n",
       "      <th>b51c76411b51751f45527c63c69ead9e</th>\n",
       "      <td>5141</td>\n",
       "      <td>16698.23</td>\n",
       "    </tr>\n",
       "    <tr>\n",
       "      <th>74f7db06bcd9557d1e992dc029db69cc</th>\n",
       "      <td>5111</td>\n",
       "      <td>18183.92</td>\n",
       "    </tr>\n",
       "  </tbody>\n",
       "</table>\n",
       "</div>"
      ],
      "text/plain": [
       "                                  count         sum\n",
       "Donor ID                                           \n",
       "39df9399f5384334a42905bcf0acdcbf  18035    37121.72\n",
       "237db43817f34988f9d543ca518be4ee  14565    84625.62\n",
       "a0e1d358aa17745ff3d3f4e4909356f3  10515  1879624.97\n",
       "6f74ffb17cbb2b616b1eef06bd4acd0c   9029     9436.00\n",
       "a1929a1172ad0b3d14bc84f54018c563   6427    28282.87\n",
       "19f24640d9da49f6f8b4c9938c049591   6153    33387.68\n",
       "24ecca49933c30a0beb83090591720c0   5688    40907.85\n",
       "6a35a7514005c04f8520e5d8f7657d91   5494    28219.41\n",
       "b51c76411b51751f45527c63c69ead9e   5141    16698.23\n",
       "74f7db06bcd9557d1e992dc029db69cc   5111    18183.92"
      ]
     },
     "execution_count": 35,
     "metadata": {},
     "output_type": "execute_result"
    }
   ],
   "source": [
    "fdonor = donations.groupby('Donor ID')['Donation Amount'].agg(['count', 'sum']).sort_values('count', ascending=False).head(10)\n",
    "fdonor"
   ]
  },
  {
   "cell_type": "markdown",
   "metadata": {},
   "source": [
    "There are several donors that donate very frequently, but their donation sum is low, some donate about a dollar each time. Also from this we can see that it seems like corporations donate using one account. \n",
    "\n",
    "It would be worth exploring if they donate to the same types of organizations. \n",
    "Looking back at the univariate table exploration, we can see that based on counts of different project IDs, that the corporations typically donate to an assortment of projects. This does not rule out the the projects could be one group. "
   ]
  },
  {
   "cell_type": "markdown",
   "metadata": {},
   "source": [
    "#### Visualizations\n",
    "Since this is on Kaggle, might as well slip in a graphical visualization. \n",
    "One donor was severely cut off for sum of donations, but you can see that the top donors do not have any pattern. "
   ]
  },
  {
   "cell_type": "code",
   "execution_count": 36,
   "metadata": {},
   "outputs": [
    {
     "data": {
      "text/plain": [
       "(0, 100000)"
      ]
     },
     "execution_count": 36,
     "metadata": {},
     "output_type": "execute_result"
    },
    {
     "data": {
      "image/png": "[encoded data removed]",
      "text/plain": [
       "<Figure size 432x288 with 1 Axes>"
      ]
     },
     "metadata": {},
     "output_type": "display_data"
    }
   ],
   "source": [
    "fdonor.plot(kind='bar')\n",
    "plt.ylim((0,100000))"
   ]
  },
  {
   "cell_type": "markdown",
   "metadata": {},
   "source": [
    "It would be fun to keep exploring this dataset, but I currently do not believe that there are insights about the connection between donors and projects except by joining project and donors.    \n",
    "With that said, I will not explore insights such as the rate of donation, and donation included optional amount, etc.\n",
    "\n",
    "The next item to look at in the donations dataset is which projects are connected to which donors. \n",
    "The projects would also have to be connected with the project description to see whether certain topics are most relevant to certain donors. \n",
    "\n",
    "After typing this out, I do believe the frequency of donations can be used to classify a donor as a frequent donor, which may affect who they donate to. \n",
    "\n",
    "### Donors and Projects\n",
    "I will group donors and the number of projects together and look for patterns of behavior. "
   ]
  },
  {
   "cell_type": "code",
   "execution_count": 37,
   "metadata": {},
   "outputs": [
    {
     "data": {
      "text/plain": [
       "Donor ID                          Project ID                      \n",
       "00000ce845c00cbf0686c992fc369df4  5bab6101eed588c396a59f6bd64274b6    1\n",
       "00002783bc5d108510f3f9666c8b1edd  9db61b1b1e43a7b256eec9b20b42d854    1\n",
       "00002d44003ed46b066607c5455a999a  2f53e5f31890e647048ac217cda3b83f    2\n",
       "                                  e09933470f4256cc2643341c1d299e55    2\n",
       "                                  2f7996f08052785e9b146f72c0c4990d    1\n",
       "                                  64f54f1efcbeb986114a7a13e6b27257    1\n",
       "                                  75131d2e94930082aa8ed1e4cd4d21da    1\n",
       "                                  c5821d32012efd7df4f6fa12e230e991    1\n",
       "                                  dfdaf35bb33f9c105530c82984960ff3    1\n",
       "                                  e2beb818569f66adaa4ced21ca299ac6    1\n",
       "Name: Project ID, dtype: int64"
      ]
     },
     "execution_count": 37,
     "metadata": {},
     "output_type": "execute_result"
    }
   ],
   "source": [
    "donations.groupby('Donor ID')['Project ID'].value_counts().head(10)"
   ]
  },
  {
   "cell_type": "markdown",
   "metadata": {},
   "source": [
    "This groupby expression shows the project ID's donated to for each donor, and in the number of frequency. The first two donor ID's show that they donated to only one project each. The third donor donated to two projects twice, and the remaining projects only once. "
   ]
  },
  {
   "cell_type": "markdown",
   "metadata": {},
   "source": [
    "## Donation Amounts\n",
    "Explore the number donated. I saw a unique pattern in what was donated.\n",
    "In economics this could be described as the strength of defaults. By placing a number down for the individual, you can help incentivize the donation of a certain amount. The default cutoff stopped at 2 dollars and onwards. "
   ]
  },
  {
   "cell_type": "code",
   "execution_count": 38,
   "metadata": {},
   "outputs": [
    {
     "data": {
      "text/plain": [
       "25.0     915951\n",
       "50.0     809289\n",
       "10.0     446984\n",
       "1.0      354055\n",
       "100.0    333150\n",
       "20.0     288549\n",
       "5.0      160678\n",
       "2.0       82240\n",
       "15.0      81764\n",
       "30.0      72532\n",
       "Name: Donation Amount, dtype: int64"
      ]
     },
     "execution_count": 38,
     "metadata": {},
     "output_type": "execute_result"
    }
   ],
   "source": [
    "donations['Donation Amount'].value_counts().head(10)"
   ]
  },
  {
   "cell_type": "code",
   "execution_count": 39,
   "metadata": {},
   "outputs": [
    {
     "data": {
      "text/plain": [
       "Text(0.5,0,'Dollars Donated')"
      ]
     },
     "execution_count": 39,
     "metadata": {},
     "output_type": "execute_result"
    },
    {
     "data": {
      "image/png": "[encoded data removed]",
      "text/plain": [
       "<Figure size 432x288 with 1 Axes>"
      ]
     },
     "metadata": {},
     "output_type": "display_data"
    }
   ],
   "source": [
    "default = donations['Donation Amount'].value_counts().head(10)\n",
    "default.plot(kind='bar')\n",
    "plt.title('Donation Amount')\n",
    "plt.ylabel('frequency')\n",
    "plt.xlabel('Dollars Donated')"
   ]
  },
  {
   "cell_type": "code",
   "execution_count": 40,
   "metadata": {},
   "outputs": [],
   "source": [
    "def percentdonationoptional(num):\n",
    "    print('\\n', f'{num} dollars')\n",
    "    print(donations.loc[donations['Donation Amount'] == num, 'Donation Included Optional Donation'].value_counts())\n",
    "    print('percentage')\n",
    "    print(donations.loc[donations['Donation Amount'] == num, 'Donation Included Optional Donation'].value_counts(normalize=True))"
   ]
  },
  {
   "cell_type": "code",
   "execution_count": 41,
   "metadata": {},
   "outputs": [
    {
     "name": "stdout",
     "output_type": "stream",
     "text": [
      "Yes    4001709\n",
      "No      686175\n",
      "Name: Donation Included Optional Donation, dtype: int64\n",
      "percentage\n",
      "Yes    0.853628\n",
      "No     0.146372\n",
      "Name: Donation Included Optional Donation, dtype: float64\n"
     ]
    }
   ],
   "source": [
    "print(donations['Donation Included Optional Donation'].value_counts())\n",
    "print('percentage')\n",
    "print(donations['Donation Included Optional Donation'].value_counts(normalize=True))"
   ]
  },
  {
   "cell_type": "code",
   "execution_count": 42,
   "metadata": {},
   "outputs": [
    {
     "name": "stdout",
     "output_type": "stream",
     "text": [
      "\n",
      " 25.0 dollars\n",
      "Yes    834977\n",
      "No      80974\n",
      "Name: Donation Included Optional Donation, dtype: int64\n",
      "percentage\n",
      "Yes    0.911596\n",
      "No     0.088404\n",
      "Name: Donation Included Optional Donation, dtype: float64\n",
      "\n",
      " 50.0 dollars\n",
      "Yes    719627\n",
      "No      89662\n",
      "Name: Donation Included Optional Donation, dtype: int64\n",
      "percentage\n",
      "Yes    0.889209\n",
      "No     0.110791\n",
      "Name: Donation Included Optional Donation, dtype: float64\n",
      "\n",
      " 10.0 dollars\n",
      "Yes    386742\n",
      "No      60242\n",
      "Name: Donation Included Optional Donation, dtype: int64\n",
      "percentage\n",
      "Yes    0.865226\n",
      "No     0.134774\n",
      "Name: Donation Included Optional Donation, dtype: float64\n",
      "\n",
      " 1.0 dollars\n",
      "Yes    291077\n",
      "No      62978\n",
      "Name: Donation Included Optional Donation, dtype: int64\n",
      "percentage\n",
      "Yes    0.822124\n",
      "No     0.177876\n",
      "Name: Donation Included Optional Donation, dtype: float64\n",
      "\n",
      " 100.0 dollars\n",
      "Yes    277524\n",
      "No      55626\n",
      "Name: Donation Included Optional Donation, dtype: int64\n",
      "percentage\n",
      "Yes    0.83303\n",
      "No     0.16697\n",
      "Name: Donation Included Optional Donation, dtype: float64\n",
      "\n",
      " 20.0 dollars\n",
      "Yes    247162\n",
      "No      41387\n",
      "Name: Donation Included Optional Donation, dtype: int64\n",
      "percentage\n",
      "Yes    0.856569\n",
      "No     0.143431\n",
      "Name: Donation Included Optional Donation, dtype: float64\n",
      "\n",
      " 5.0 dollars\n",
      "Yes    118348\n",
      "No      42330\n",
      "Name: Donation Included Optional Donation, dtype: int64\n",
      "percentage\n",
      "Yes    0.736554\n",
      "No     0.263446\n",
      "Name: Donation Included Optional Donation, dtype: float64\n",
      "\n",
      " 2.0 dollars\n",
      "Yes    61396\n",
      "No     20844\n",
      "Name: Donation Included Optional Donation, dtype: int64\n",
      "percentage\n",
      "Yes    0.746547\n",
      "No     0.253453\n",
      "Name: Donation Included Optional Donation, dtype: float64\n",
      "\n",
      " 15.0 dollars\n",
      "Yes    67613\n",
      "No     14151\n",
      "Name: Donation Included Optional Donation, dtype: int64\n",
      "percentage\n",
      "Yes    0.826929\n",
      "No     0.173071\n",
      "Name: Donation Included Optional Donation, dtype: float64\n",
      "\n",
      " 30.0 dollars\n",
      "Yes    60258\n",
      "No     12274\n",
      "Name: Donation Included Optional Donation, dtype: int64\n",
      "percentage\n",
      "Yes    0.830778\n",
      "No     0.169222\n",
      "Name: Donation Included Optional Donation, dtype: float64\n"
     ]
    }
   ],
   "source": [
    "for i in default.index:\n",
    "    percentdonationoptional(i)"
   ]
  },
  {
   "cell_type": "markdown",
   "metadata": {},
   "source": [
    "#### Insights\n",
    "It is a bit messy, but since it is not crucial to discorving whether a person will donate for this project, I will leave it at that. \n",
    "What can be taken away from this is that looking at donations 25, 10, and 5 you can see a drastic change in the included optional donation. It was 0.08%, 0.16%, and 0.26% respectively for when the donation did not include an optional donation. This shows when more of the options were left up to the person, they gravitated towards mentally familiar results. This can be more explored in game theory for economics. \n",
    "\n",
    "After looking at discussions about this topic, I believe that I created a false correlation. The corrected detail about that variable is the following:     \n",
    "When making a donation, a donor can choose to allocate part of that amount to the DonorsChoose.org team. Every donation has a 15% optional donation by default, and they can choose to change that on the cart page in checkout.\n",
    "\n",
    "The donation is made towards the team. Those who have no did not donate to the team and donated only to the cause. "
   ]
  },
  {
   "cell_type": "markdown",
   "metadata": {},
   "source": [
    "## Donor Cart\n",
    "A donor can pay for multiple donations at once, in one payment cart. \"Donor Cart Sequence\" is the donor's nth time that they've checked out and paid.\n",
    "\n",
    "Therefore, this number is strictly the number of times that a person went through the donation cycle, and is distinct from the actual projects donated to. Therefore, donor cart sequence is a subset of projects donated to. "
   ]
  },
  {
   "cell_type": "markdown",
   "metadata": {},
   "source": [
    "## Donation Received Date\n"
   ]
  },
  {
   "cell_type": "code",
   "execution_count": 43,
   "metadata": {},
   "outputs": [],
   "source": [
    "donations[\"Donation Received Date\"] = donations[\"Donation Received Date\"].astype(\"datetime64[ns]\")"
   ]
  },
  {
   "cell_type": "code",
   "execution_count": 44,
   "metadata": {},
   "outputs": [
    {
     "data": {
      "text/plain": [
       "Text(0,0.5,'Counts')"
      ]
     },
     "execution_count": 44,
     "metadata": {},
     "output_type": "execute_result"
    },
    {
     "data": {
      "image/png": "[encoded data removed]",
      "text/plain": [
       "<Figure size 432x288 with 1 Axes>"
      ]
     },
     "metadata": {},
     "output_type": "display_data"
    }
   ],
   "source": [
    "# donations['Donation Received Date'].value_counts().plot(kind='bar')\n",
    "# The code above will kill the computer since there are too many bars to create. Friendly Warning\n",
    "donations['Donation Received Date'].dt.month.value_counts().sort_index().plot(kind='bar')\n",
    "plt.title('Donations Received by Month')\n",
    "plt.xlabel('Month')\n",
    "plt.ylabel('Counts')"
   ]
  },
  {
   "cell_type": "markdown",
   "metadata": {},
   "source": [
    "From the bar graph above, you can see that most donations are received in August and September, with two more frequent months in December and March. This agrees with previous data that shows that a large population of donations are made from teachers. In addition, if this were only the US it would fall in line with the culture of Christmas. \n",
    "\n",
    "I do not have an explanation for the low amount of donations in the Summer months, but it could be due to summer vacation and the idea of spending for yourself or on luxuries. "
   ]
  },
  {
   "cell_type": "code",
   "execution_count": 45,
   "metadata": {},
   "outputs": [],
   "source": [
    "%reset"
   ]
  },
  {
   "cell_type": "markdown",
   "metadata": {},
   "source": [
    "# Schools Data Exploration"
   ]
  },
  {
   "cell_type": "code",
   "execution_count": 1,
   "metadata": {},
   "outputs": [
    {
     "name": "stdout",
     "output_type": "stream",
     "text": [
      "['Donations.csv', 'Donors.csv', 'Projects.csv', 'Resources.csv', 'Schools.csv', 'Teachers.csv']\n"
     ]
    }
   ],
   "source": [
    "%matplotlib inline\n",
    "\n",
    "import pandas as pd\n",
    "import numpy as np\n",
    "import matplotlib.pyplot as plt\n",
    "\n",
    "import os\n",
    "print(os.listdir(\"../input\"))"
   ]
  },
  {
   "cell_type": "code",
   "execution_count": 3,
   "metadata": {},
   "outputs": [
    {
     "name": "stdout",
     "output_type": "stream",
     "text": [
      "<class 'pandas.core.frame.DataFrame'>\n",
      "RangeIndex: 72993 entries, 0 to 72992\n",
      "Data columns (total 9 columns):\n",
      "School ID                       72993 non-null object\n",
      "School Name                     72993 non-null object\n",
      "School Metro Type               72993 non-null object\n",
      "School Percentage Free Lunch    71852 non-null float64\n",
      "School State                    72993 non-null object\n",
      "School Zip                      72993 non-null int64\n",
      "School City                     72766 non-null object\n",
      "School County                   72991 non-null object\n",
      "School District                 72993 non-null object\n",
      "dtypes: float64(1), int64(1), object(7)\n",
      "memory usage: 5.0+ MB\n",
      "None\n",
      "\n",
      " Dataset Dimensions\n",
      "72993 9\n",
      "\n",
      " School ID\n",
      "ec7a9926fc7d9699d6f3eb8a3c43f2c0    1\n",
      "41a4e0d39697ac6e427dfb5e71e362a4    1\n",
      "bef95dae081415ffda7e0364dd67d638    1\n",
      "00d128cdcccc2778080faff3953f92bb    1\n",
      "5ad0c77edb6ff1c3ffa5cb9754da66c1    1\n",
      "Name: School ID, dtype: int64\n",
      "\n",
      " School Name\n",
      "Lincoln Elementary School       203\n",
      "Washington Elementary School    143\n",
      "Jefferson Elementary School     142\n",
      "Central Elementary School       142\n",
      "Roosevelt Elementary School      91\n",
      "Name: School Name, dtype: int64\n",
      "\n",
      " School Metro Type\n",
      "suburban    22992\n",
      "urban       22793\n",
      "rural       12973\n",
      "unknown      8125\n",
      "town         6110\n",
      "Name: School Metro Type, dtype: int64\n",
      "\n",
      " School Percentage Free Lunch\n",
      "95.0    4781\n",
      "63.0    1185\n",
      "78.0    1143\n",
      "76.0    1112\n",
      "74.0    1107\n",
      "Name: School Percentage Free Lunch, dtype: int64\n",
      "\n",
      " School State\n",
      "California    8457\n",
      "Texas         6485\n",
      "New York      3819\n",
      "Florida       3302\n",
      "Illinois      3126\n",
      "Name: School State, dtype: int64\n",
      "\n",
      " School Zip\n",
      "10456    49\n",
      "10457    44\n",
      "60623    42\n",
      "90011    40\n",
      "11207    39\n",
      "Name: School Zip, dtype: int64\n",
      "\n",
      " School City\n",
      "New York City    2051\n",
      "Houston           729\n",
      "Chicago           725\n",
      "Los Angeles       644\n",
      "San Antonio       379\n",
      "Name: School City, dtype: int64\n",
      "\n",
      " School County\n",
      "Los Angeles    2110\n",
      "Cook           1224\n",
      "Harris         1033\n",
      "Orange          955\n",
      "Maricopa        911\n",
      "Name: School County, dtype: int64\n",
      "\n",
      " School District\n",
      "New York City Dept Of Ed         1718\n",
      "Los Angeles Unif Sch Dist        1083\n",
      "[County Run]                      525\n",
      "Miami-Dade Co Public Sch Dist     431\n",
      "Texas Dept Of Education           375\n",
      "Name: School District, dtype: int64\n"
     ]
    }
   ],
   "source": [
    "schools = pd.read_csv('../input/Schools.csv')\n",
    "introexplore(schools)"
   ]
  },
  {
   "cell_type": "markdown",
   "metadata": {},
   "source": [
    "Looking at this the summary, we can see that \n",
    "- the unique identifier is the school id.\n",
    "- School names are frequently reused and may not be as important.\n",
    "- We have the school metro type, which can be explored using a bar graph.\n",
    "- the percentage of students who qualify for free lunch.\n",
    "- school state, zipcode, county, district and city, all show location. \n",
    "    - It is interesting how the los angeles school district exceeds the schools in los angeles. Perhaps the district is larger than the city and the county. \n"
   ]
  },
  {
   "cell_type": "code",
   "execution_count": 4,
   "metadata": {},
   "outputs": [],
   "source": [
    "# look at interesting columns\n",
    "intcolumns = [2, 3, 4, 6, 7, 8]"
   ]
  },
  {
   "cell_type": "code",
   "execution_count": 21,
   "metadata": {},
   "outputs": [],
   "source": [
    "def plotgrids(df, columns):\n",
    "    \n",
    "    fig = plt.figure(figsize=(15, 15))\n",
    "    head = 10\n",
    "    colnum = 3\n",
    "    \n",
    "    for i in range(len(columns)):\n",
    "        \n",
    "        increment = 0\n",
    "        if len(columns)%colnum != 0:\n",
    "            increment = 1\n",
    "            \n",
    "        rownum = len(columns)//colnum + increment\n",
    "        graphnum = int(f'{rownum}{colnum}{i+1}')\n",
    "        plt.subplot(graphnum)\n",
    "        df.iloc[:, columns[i]].value_counts(normalize=True).head(head).plot(kind='bar')\n",
    "        plt.title(df.iloc[:, columns[i]].name)"
   ]
  },
  {
   "cell_type": "code",
   "execution_count": 22,
   "metadata": {},
   "outputs": [
    {
     "data": {
      "image/png": "[encoded data removed]",
      "text/plain": [
       "<Figure size 1080x1080 with 6 Axes>"
      ]
     },
     "metadata": {},
     "output_type": "display_data"
    }
   ],
   "source": [
    "plotgrids(schools, intcolumns)"
   ]
  },
  {
   "cell_type": "markdown",
   "metadata": {},
   "source": [
    "The graphs show that there is a lot to explore in bivariate graphs, for instance which city has the highest percentage of students qualifying for free lunches. That can be explored later, but it does not directly benefit the prediction of whether a donor will make a donation.\n",
    "\n",
    "What can be immediately explored is whether the location of the school that has the project affect the donor.    \n",
    "To put it simply, would donors be more likely to donate to schools near themselves? What about where the person is from?"
   ]
  },
  {
   "cell_type": "markdown",
   "metadata": {},
   "source": [
    "# Resources Data Exploration"
   ]
  },
  {
   "cell_type": "code",
   "execution_count": 23,
   "metadata": {},
   "outputs": [
    {
     "name": "stdout",
     "output_type": "stream",
     "text": [
      "['Donations.csv', 'Donors.csv', 'Projects.csv', 'Resources.csv', 'Schools.csv', 'Teachers.csv']\n"
     ]
    }
   ],
   "source": [
    "%matplotlib inline\n",
    "\n",
    "import pandas as pd\n",
    "import numpy as np\n",
    "import matplotlib.pyplot as plt\n",
    "\n",
    "import os\n",
    "print(os.listdir(\"../input\"))"
   ]
  },
  {
   "cell_type": "code",
   "execution_count": 24,
   "metadata": {},
   "outputs": [
    {
     "name": "stdout",
     "output_type": "stream",
     "text": [
      "<class 'pandas.core.frame.DataFrame'>\n",
      "RangeIndex: 7210448 entries, 0 to 7210447\n",
      "Data columns (total 5 columns):\n",
      "Project ID              object\n",
      "Resource Item Name      object\n",
      "Resource Quantity       float64\n",
      "Resource Unit Price     float64\n",
      "Resource Vendor Name    object\n",
      "dtypes: float64(2), object(3)\n",
      "memory usage: 275.1+ MB\n",
      "None\n",
      "\n",
      " Dataset Dimensions\n",
      "7210448 5\n",
      "\n",
      " Project ID\n",
      "07a021f92447be2ef4a6cb955bc4c1d1    367\n",
      "b2304d2fed2cdb4aecea50c1e35171b4    366\n",
      "61f7be7e54e1042757e4f844b8109a9d    340\n",
      "544533ba75f043705223fe34864798e5    322\n",
      "ceafa826becef13d4d7bfe08a012d76b    301\n",
      "Name: Project ID, dtype: int64\n",
      "\n",
      " Resource Item Name\n",
      "trip                                                                21233\n",
      "standard shipping                                                   11467\n",
      "apple&#174; ipad&#174; mini wi-fi - tablet - ios 6 - 16 gb - 7.9    10916\n",
      "wonder                                                               6760\n",
      "apple - ipad� mini 2 with wi-fi - 16gb - space gray                  6478\n",
      "Name: Resource Item Name, dtype: int64\n",
      "\n",
      " Resource Quantity\n",
      "1.0    5038286\n",
      "2.0     793944\n",
      "3.0     313861\n",
      "4.0     237297\n",
      "5.0     207359\n",
      "Name: Resource Quantity, dtype: int64\n",
      "\n",
      " Resource Unit Price\n",
      "29.99    141999\n",
      "19.99    111959\n",
      "9.99      92381\n",
      "49.99     87305\n",
      "5.10      80749\n",
      "Name: Resource Unit Price, dtype: int64\n",
      "\n",
      " Resource Vendor Name\n",
      "Amazon Business                 3203262\n",
      "Lakeshore Learning Materials    1080820\n",
      "AKJ Education                    964495\n",
      "Best Buy Education               315859\n",
      "School Specialty                 240064\n",
      "Name: Resource Vendor Name, dtype: int64\n"
     ]
    }
   ],
   "source": [
    "resources = pd.read_csv('../input/Resources.csv')\n",
    "introexplore(resources)"
   ]
  },
  {
   "cell_type": "markdown",
   "metadata": {},
   "source": [
    "# Teachers Data Exploration"
   ]
  },
  {
   "cell_type": "code",
   "execution_count": 25,
   "metadata": {},
   "outputs": [
    {
     "name": "stdout",
     "output_type": "stream",
     "text": [
      "['Donations.csv', 'Donors.csv', 'Projects.csv', 'Resources.csv', 'Schools.csv', 'Teachers.csv']\n"
     ]
    }
   ],
   "source": [
    "%matplotlib inline\n",
    "\n",
    "import pandas as pd\n",
    "import numpy as np\n",
    "import matplotlib.pyplot as plt\n",
    "\n",
    "import os\n",
    "print(os.listdir(\"../input\"))"
   ]
  },
  {
   "cell_type": "code",
   "execution_count": 26,
   "metadata": {},
   "outputs": [
    {
     "name": "stdout",
     "output_type": "stream",
     "text": [
      "<class 'pandas.core.frame.DataFrame'>\n",
      "RangeIndex: 402900 entries, 0 to 402899\n",
      "Data columns (total 3 columns):\n",
      "Teacher ID                           402900 non-null object\n",
      "Teacher Prefix                       402872 non-null object\n",
      "Teacher First Project Posted Date    402900 non-null object\n",
      "dtypes: object(3)\n",
      "memory usage: 9.2+ MB\n",
      "None\n",
      "\n",
      " Dataset Dimensions\n",
      "402900 3\n",
      "\n",
      " Teacher ID\n",
      "1a3f038ee5b273f09b1c4aa6279d4516    1\n",
      "253fb9c83bcdd53ea3684f3a0338b838    1\n",
      "7f4fe5fc9f6cd9600a88f746fb7b7178    1\n",
      "fc2095a7dba1c5f923aef7857fa2c8e5    1\n",
      "7ed4e24141fca3b9eb2e96b59edf7b85    1\n",
      "Name: Teacher ID, dtype: int64\n",
      "\n",
      " Teacher Prefix\n",
      "Mrs.       202142\n",
      "Ms.        145761\n",
      "Mr.         47480\n",
      "Teacher      7404\n",
      "Dr.            57\n",
      "Name: Teacher Prefix, dtype: int64\n",
      "\n",
      " Teacher First Project Posted Date\n",
      "2015-09-13    2067\n",
      "2018-03-30    1350\n",
      "2014-08-24    1157\n",
      "2015-08-20    1125\n",
      "2016-08-21    1095\n",
      "Name: Teacher First Project Posted Date, dtype: int64\n"
     ]
    }
   ],
   "source": [
    "teachers = pd.read_csv('../input/Teachers.csv')\n",
    "introexplore(teachers)"
   ]
  },
  {
   "cell_type": "markdown",
   "metadata": {},
   "source": [
    "This dataset has relatively straight forward information. It is interesting to see the popular dates of the first project, for instance 9-13 is when school starts, it is an understandable date. But 03-30 is towards the end of the year, a few months before summer. Also from previous data, we know that donors tend to donate more around september, november, and the christmas dates, the dates could reflect a strategy or an event that I am unaware of.\n"
   ]
  },
  {
   "cell_type": "markdown",
   "metadata": {},
   "source": [
    "# Projects Data Exploration\n",
    "\n",
    "Normally I would run the csv file, but the projects file is the largest and based on the metadata, it holds a lot of text.\n",
    "For this I  will be looking at a small sample and try extrapolating a strategy to deal with the dataset. "
   ]
  },
  {
   "cell_type": "code",
   "execution_count": 1,
   "metadata": {},
   "outputs": [
    {
     "name": "stdout",
     "output_type": "stream",
     "text": [
      "['Donations.csv', 'Donors.csv', 'Projects.csv', 'Resources.csv', 'Schools.csv', 'Teachers.csv']\n"
     ]
    }
   ],
   "source": [
    "%matplotlib inline\n",
    "\n",
    "import pandas as pd\n",
    "import numpy as np\n",
    "import matplotlib.pyplot as plt\n",
    "\n",
    "import os\n",
    "print(os.listdir(\"../input\"))"
   ]
  },
  {
   "cell_type": "code",
   "execution_count": 4,
   "metadata": {},
   "outputs": [
    {
     "name": "stdout",
     "output_type": "stream",
     "text": [
      "<class 'pandas.core.frame.DataFrame'>\n",
      "RangeIndex: 500 entries, 0 to 499\n",
      "Data columns (total 18 columns):\n",
      "Project ID                          500 non-null object\n",
      "School ID                           500 non-null object\n",
      "Teacher ID                          500 non-null object\n",
      "Teacher Project Posted Sequence     500 non-null int64\n",
      "Project Type                        500 non-null object\n",
      "Project Title                       500 non-null object\n",
      "Project Essay                       500 non-null object\n",
      "Project Short Description           500 non-null object\n",
      "Project Need Statement              500 non-null object\n",
      "Project Subject Category Tree       500 non-null object\n",
      "Project Subject Subcategory Tree    500 non-null object\n",
      "Project Grade Level Category        500 non-null object\n",
      "Project Resource Category           500 non-null object\n",
      "Project Cost                        500 non-null float64\n",
      "Project Posted Date                 500 non-null object\n",
      "Project Expiration Date             500 non-null object\n",
      "Project Current Status              500 non-null object\n",
      "Project Fully Funded Date           379 non-null object\n",
      "dtypes: float64(1), int64(1), object(16)\n",
      "memory usage: 70.4+ KB\n",
      "None\n",
      "\n",
      " Dataset Dimensions\n",
      "500 18\n",
      "\n",
      " Project ID\n",
      "1c4b199b2c92909614e85d5f896cbfaf    1\n",
      "7d272e77e3a2b62c1e163f4e947058c1    1\n",
      "5f53f74aea647785494b88b11a3b1759    1\n",
      "fcbae32a54f0a62e2a181a6ff51eb776    1\n",
      "6c5dde3c448b0a4f1cb666882ab20ae8    1\n",
      "Name: Project ID, dtype: int64\n",
      "\n",
      " School ID\n",
      "b5159e06a68f3acc486c4fdcd4068403    4\n",
      "356d99580221ae5036342d8a720e9192    3\n",
      "66c1e9fa398187719cd61a6358796c30    3\n",
      "3cf555598e0098d49fa13aa80413ca5c    3\n",
      "013739f7a5b371372feb15a80b3ca48a    3\n",
      "Name: School ID, dtype: int64\n",
      "\n",
      " Teacher ID\n",
      "fb6ece20863afc560a0c2fdd2e622fb0    3\n",
      "45314e6a64050fc8a066a35d5000b300    3\n",
      "d05171829df6eb28fad761e01b5e9054    2\n",
      "4215759992791b568f667768b52dd401    2\n",
      "c2b7f73decd59187d26509317d54f0a6    2\n",
      "Name: Teacher ID, dtype: int64\n",
      "\n",
      " Teacher Project Posted Sequence\n",
      "1    118\n",
      "2     62\n",
      "3     41\n",
      "4     32\n",
      "9     23\n",
      "Name: Teacher Project Posted Sequence, dtype: int64\n",
      "\n",
      " Project Type\n",
      "Teacher-Led    500\n",
      "Name: Project Type, dtype: int64\n",
      "\n",
      " Project Title\n",
      "Technology in the Classroom                               2\n",
      "Teaching Economics Using Technology                       2\n",
      "Magazines to Enlighten Young Readers                      1\n",
      "Transliteracy = 21st Century Standards                    1\n",
      "1st Grade Mathematicians in Need of Learning Materials    1\n",
      "Name: Project Title, dtype: int64\n",
      "\n",
      " Project Essay\n",
      "\"Basic necessities\" can take on many meanings depending on who you are. Right now it is conjuring up the \"Bare Necessities\" song and dance from Jungle Book. To many of my kids, these materials are a luxury although they are needed in our classroom. <!--DONOTREMOVEESSAYDIVIDER-->My students are quickly growing into insightful scholars, but they need help getting there. They are active kids who sometimes have trouble focusing. It may be stress, hunger, a personal slight or a new best friend that is distracting them. However, soothing art can help ameliorate all those distractions. Through creative lessons they will find that learning can indeed be fun. <!--DONOTREMOVEESSAYDIVIDER-->Through these resources more creative learning can take place in my classroom. The versatile teaching easels will allow for felt, pocket charts, dry-erase markers and magnetic letters and numbers to be used in both small and large group settings. The dry-erase side can even double as a re-usable painting easel. The painting supplies will allow my students to exuberantly express themselves without fear of messing up their clothing or spilling the paint on the floor of our classroom. The pencils, journals, sharpies, erasers, card stock and binder rings will allow for self-expression through writing and the creation of mini-books. \\n\\nSome supplies are more utilitarian than others, but they will all serve an important role and will be used on a weekly if not daily basis. With these supplies I will be able to put my more creative lessons into action! <!--DONOTREMOVEESSAYDIVIDER-->My students will rejoice when these supplies enter the classroom. They will continue to grow as scholars in leaps and bounds. My Pre-K students are sponges and these new supplies will help them soak up even more knowledge!     1\n",
      "Do you know what this world might look like if we don't inspire kids to use alternative energy? <!--DONOTREMOVEESSAYDIVIDER-->My elementary school is in a good moral area where you don't see any affluent lifestyles.  We just don't have extra money to do the extra things people would like to do.  In fact, teachers' and students' main fundraiser this year was for the purpose to purchase math books. <!--DONOTREMOVEESSAYDIVIDER-->Like I suggested above, what will this world look like unless we inspire young people to explore alternative energy resources?  The earth will be just fine and will heal itself after fifty-thousand years or so when humans are gone.  It needs to be instilled into kids that we need to take care of man-kind and be concerned about all humans across this planet. <!--DONOTREMOVEESSAYDIVIDER-->Having batteries is the backbone behind my after school program.  I try to create an interest in math and science during a fun after school program that focuses on renewable sources of energy.                                                                                                                                                                                                                                                                                                                                                                                                                                                                                                                                                                                                                                                                                                                                                                                                                         1\n",
      "Help us have a fun, interactive listening center in our class! Did you struggle to read when you were younger?  Did it help to see the words and hear them read to you at the same time?  This listening center will help the students in my class that need a little extra auditory and visual guidance.\\n\\n <!--DONOTREMOVEESSAYDIVIDER-->I teach 22 awesome second-grade students in Georgia. We are a Title I school with over 94% free or reduced lunch. The students come to school excited and ready to learn every day. My students love to read, but a large portion of them struggle to read on grade level. They are awesome at math, but need concrete examples and hands-on activities to help them retain the information. <!--DONOTREMOVEESSAYDIVIDER-->I am requesting a listening center, read along books on CD, and headphones for our computers.  Many students in my class need to hear, see, and interact with the reading material to gain meaning from it.  Our CD player broke a while back and the students miss listening to the books on CD.  The new 6 person listening center will allow the students to listen to the same book and then complete meaningful activities together about the story and its parts.  The new headphones for the computers will allow the students to play educational games and listen to stories without the noise from the rest of the class. interrupting them.  We are ready to listen up and learn!\\n\\n <!--DONOTREMOVEESSAYDIVIDER-->This project is important to the success of the students in my class. Having the the listening center in the class will allow the students the opportunity to listen to and interact with the reading materials with more confidence and ease.  The listening center will be a great addition to our center rotation time.                                             1\n",
      "My students need books that reflect who they are and what they love!  I have been teaching high school at a treatment school for 12 years and have jumped to teaching fourth grade.  I have no classroom library for my students.  They need books that they can read during our reading workshop. <!--DONOTREMOVEESSAYDIVIDER-->I teach at a economically and racially diverse school.  The school is a focus school under Minnesota State Guidelines and we are working hard to get our test scores up.  We are doing this by running reading workshop in an effort to get kids interested in reading and also to meet the needs of all of our students.  During workshop time, students partner read, play word games, or silent read while I work in small groups with kids.  In order for this to work, I need a high interest library so kids stay reading independently while I give small group guided reading to kids.   <!--DONOTREMOVEESSAYDIVIDER-->I have requested a variety of books for a classroom library.  In my order, I have chosen a wide range of books for kids of varying interests, abilities, and ethnicities.  I have tried to find books that all of my students can relate to by getting fiction and nonfiction, different biographies, and books that reflect all races an classes.   <!--DONOTREMOVEESSAYDIVIDER-->My kids need to improve their reading!  The only way to do this is by having them engage with literature that interests them.  Fourth grade is a vital year to get students engaged in reading so that when they reach middle school and high school, they are prepared, and excited for the challenge!\\n                                                                                                                                                                                                                 1\n",
      "My students need a dramatic play area in our classroom to express themselves. <!--DONOTREMOVEESSAYDIVIDER-->My students are smart, funny, and wonderful kindergarten students who want to learn and have fun.  My students love to read, write and explore the world around them. My students love coming to school.  They attend school in an urban low economic area in Maryland. <!--DONOTREMOVEESSAYDIVIDER-->The resources we are requesting will help my children bring the many storybooks they hear to life.  The kitchen set will set the scene for many adventures for my students.  The play food will help my students sort food into food groups.  The dishes will help  the kitchen set become a realistic and increase the fun.  <!--DONOTREMOVEESSAYDIVIDER-->This project is important because it gives the students in my class a chance to have a dramatic play center in which the students will learn to share, take turns and learn how to work together.                                                                                                                                                                                                                                                                                                                                                                                                                                                                                                                                                                                                                                                                                                                                                                                                                                                                                              1\n",
      "Name: Project Essay, dtype: int64\n",
      "\n",
      " Project Short Description\n",
      "\"School bullying is recognized as a mental health problem of childhood by medical and educational authorities,\" a statement from a Mayo Clinic psychologist. Bullying among children seems to be...        2\n",
      "Every day kids are afraid to go to school because of bullies. Bullying is a huge problem that affects many children across the nation. It needs to STOP!!! Adults need to help children learn how to...    2\n",
      "My students currently are using desks that are too large for first graders. This causes them to become cramped in our small classroom and creates a difficult environment in which to work...              1\n",
      "Do you remember what it was like the last time you got sucked into reading book after book from a series? Since moving to the Reader's Workshop model for language arts, I've seen the excitement...       1\n",
      "Be the change in my classroom, help my students get a beanbag chair and activity trays to save the day! In a classroom with 29 students kids can become overwhelmed, help them love to learn...            1\n",
      "Name: Project Short Description, dtype: int64\n",
      "\n",
      " Project Need Statement\n",
      "My students need an iPad in my classroom.                                                                                                                                  2\n",
      "My students need a basic listening center equipped with a CD and cassette player/recorder along with individual headphones and a storage nook for these supplies.          1\n",
      "My students need 8 lab equipment kits designed to study the muscular and skeletal systems.                                                                                 1\n",
      "My students need hands on math games, puzzles and centers.                                                                                                                 1\n",
      "My students need some challenging literature that they can sit back and enjoy...quiet story time reading that expands their knowledge base (sans a looming assignment).    1\n",
      "Name: Project Need Statement, dtype: int64\n",
      "\n",
      " Project Subject Category Tree\n",
      "Literacy & Language                      138\n",
      "Math & Science                            71\n",
      "Literacy & Language, Math & Science       56\n",
      "Applied Learning, Literacy & Language     28\n",
      "Music & The Arts                          23\n",
      "Name: Project Subject Category Tree, dtype: int64\n",
      "\n",
      " Project Subject Subcategory Tree\n",
      "Literacy                          47\n",
      "Literacy, Literature & Writing    45\n",
      "Literacy, Mathematics             41\n",
      "Mathematics                       29\n",
      "ESL, Literacy                     19\n",
      "Name: Project Subject Subcategory Tree, dtype: int64\n",
      "\n",
      " Project Grade Level Category\n",
      "Grades PreK-2    218\n",
      "Grades 3-5       145\n",
      "Grades 6-8        83\n",
      "Grades 9-12       54\n",
      "Name: Project Grade Level Category, dtype: int64\n",
      "\n",
      " Project Resource Category\n",
      "Supplies      159\n",
      "Technology    147\n",
      "Books         132\n",
      "Other          49\n",
      "Trips           9\n",
      "Name: Project Resource Category, dtype: int64\n",
      "\n",
      " Project Cost\n",
      "527.05    5\n",
      "570.11    4\n",
      "469.89    2\n",
      "885.25    2\n",
      "464.94    2\n",
      "Name: Project Cost, dtype: int64\n",
      "\n",
      " Project Posted Date\n",
      "2013-01-01    227\n",
      "2013-01-02    175\n",
      "2013-01-03     98\n",
      "Name: Project Posted Date, dtype: int64\n",
      "\n",
      " Project Expiration Date\n",
      "2013-05-31    171\n",
      "2013-05-30    141\n",
      "2013-06-01    120\n",
      "2013-05-29      8\n",
      "2013-03-02      5\n",
      "Name: Project Expiration Date, dtype: int64\n",
      "\n",
      " Project Current Status\n",
      "Fully Funded    379\n",
      "Expired         121\n",
      "Name: Project Current Status, dtype: int64\n",
      "\n",
      " Project Fully Funded Date\n",
      "2013-01-02    26\n",
      "2013-01-04    21\n",
      "2013-01-03    15\n",
      "2013-01-07    14\n",
      "2013-01-06    13\n",
      "Name: Project Fully Funded Date, dtype: int64\n"
     ]
    }
   ],
   "source": [
    "projects = pd.read_csv('../input/Projects.csv', nrows=500)\n",
    "introexplore(projects)"
   ]
  },
  {
   "cell_type": "markdown",
   "metadata": {},
   "source": [
    "In this text heavy dataset we have\n",
    "    - Project ID                          \n",
    "    - School ID                           \n",
    "    - Teacher ID                          \n",
    "    - Teacher Project Posted Sequence         \n",
    "    - Project Type                        \n",
    "    - Project Title                       \n",
    "    - Project Essay                       \n",
    "    - Project Short Description           \n",
    "    - Project Need Statement              \n",
    "    - Project Subject Category Tree       \n",
    "    - Project Subject Subcategory Tree    \n",
    "    - Project Grade Level Category        \n",
    "    - Project Resource Category           \n",
    "    - Project Cost                        \n",
    "    - Project Posted Date                 \n",
    "    - Project Expiration Date             \n",
    "    - Project Current Status              \n",
    "    - Project Fully Funded Date           \n",
    "Project ID's are unique, but school and teacher IDs have multiple counts which suggest that there have been multiple projects by multiple teachers requesting donations. \n",
    "The remaining data points that describe the project. If we look on the [webpage](https://www.donorschoose.org/) we can see several options to find a classroom. Scrolling to the bottom views urgent projects that have the characteristics of \"HIGHEST ECONOMIC NEED + CLOSEST TO FINISH LINE + FEWEST DAYS LEFT\". The other options are clicking the \"find a classroom to support\" button, a search bar to filter by \"topic, teachers, & schools\", as well as a location filter \"city, state, and zip\". We can use these as content variables to help determine a good recommendation. \n",
    "\n",
    "This would suggest that a catchy title, empathetic photo, close location, catchy short description, then catchy long description, urgent time, extra cost left over, achievable needs, and a relatable resource. \n",
    "\n",
    "A way that we can naively capture the meaning behind the text information is using a Tfidf vectorizer. Tfidf stands for Text frequency - inverse document frequency. This method takes in sets of texts, computes the frequency of words in a document, and then divides the frequency over the document frequency. This process shows the importance of words that are frequent and used in few documents, for example, frequently used words such as \"the\" would hold no value since that article is frequently used in several documents despite also being frequent in a current document. "
   ]
  },
  {
   "cell_type": "code",
   "execution_count": null,
   "metadata": {},
   "outputs": [],
   "source": []
  }
 ],
 "metadata": {
  "kernelspec": {
   "display_name": "Python 3",
   "language": "python",
   "name": "python3"
  },
  "language_info": {
   "codemirror_mode": {
    "name": "ipython",
    "version": 3
   },
   "file_extension": ".py",
   "mimetype": "text/x-python",
   "name": "python",
   "nbconvert_exporter": "python",
   "pygments_lexer": "ipython3",
   "version": "3.6.5"
  }
 },
 "nbformat": 4,
 "nbformat_minor": 2
}
