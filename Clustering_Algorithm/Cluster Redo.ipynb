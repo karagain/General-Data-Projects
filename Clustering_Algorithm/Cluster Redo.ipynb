{
 "cells": [
  {
   "cell_type": "code",
   "execution_count": 1,
   "metadata": {
    "collapsed": true
   },
   "outputs": [
    {
     "name": "stderr",
     "output_type": "stream",
     "text": [
      "C:\\Users\\Karsten\\Anaconda3\\lib\\site-packages\\h5py\\__init__.py:34: FutureWarning: Conversion of the second argument of issubdtype from `float` to `np.floating` is deprecated. In future, it will be treated as `np.float64 == np.dtype(float).type`.\n",
      "  from ._conv import register_converters as _register_converters\n"
     ]
    }
   ],
   "source": [
    "import tensorflow as tf\n",
    "import numpy as np\n",
    "import matplotlib.pyplot as plt"
   ]
  },
  {
   "cell_type": "code",
   "execution_count": 2,
   "metadata": {
    "collapsed": true
   },
   "outputs": [],
   "source": [
    "def create_samples(n_clusters, n_samples_per_cluster, n_features, embiggen_factor, seed):\n",
    "    np.random.seed(seed)\n",
    "    slices = []\n",
    "    centroids = []\n",
    "    # Create samples for each cluster\n",
    "    for i in range(n_clusters):\n",
    "        samples = tf.random_normal((n_samples_per_cluster, n_features),\n",
    "                                  mean=0.0, stddev=5.0, dtype=tf.float32, seed=seed, name=\"cluster_{}\".format(i))\n",
    "        current_centroid = (np.random.random((1, n_features)) * embiggen_factor) - (embiggen_factor/2)\n",
    "        centroids.append(current_centroid)\n",
    "        samples += current_centroid\n",
    "        slices.append(samples)\n",
    "    # Create a big \"samples\" dataset\n",
    "    samples = tf.concat(slices, 0, name='samples') # concatenates the n_clusters samples into one list across the 0 axis\n",
    "    centroids = tf.concat(centroids, 0, name='centroids') # similarily for the centroids\n",
    "    return centroids, samples\n",
    "    \n",
    "def choose_random_centroids(samples, n_clusters):\n",
    "    # Step 0: Initialisation: Select `n_clusters` number of random points\n",
    "    n_samples = tf.shape(samples)[0]\n",
    "    random_indices = tf.random_shuffle(tf.range(0, n_samples))\n",
    "    begin = [0,]\n",
    "    size = [n_clusters,]\n",
    "    size[0] = n_clusters\n",
    "    centroid_indices = tf.slice(random_indices, begin, size)\n",
    "    initial_centroids = tf.gather(samples, centroid_indices)\n",
    "    return initial_centroids    \n",
    "\n",
    "def assign_to_nearest(samples, centroids):\n",
    "    expanded_vectors = tf.expand_dims(samples, 0)\n",
    "    expanded_centroids = tf.expand_dims(centroids, 1)\n",
    "    distances = tf.reduce_sum( tf.square(\n",
    "               tf.subtract(expanded_vectors, expanded_centroids)), 2)\n",
    "    mins = tf.argmin(distances, 0)\n",
    "    nearest_indices = mins\n",
    "    return nearest_indices\n",
    "\n",
    "def update_centroids(samples, nearest_indices, n_clusters):\n",
    "    # Updates the centroid to be the mean of all samples associated with it.\n",
    "    nearest_indices = tf.to_int32(nearest_indices)\n",
    "    partitions = tf.dynamic_partition(samples, nearest_indices, n_clusters)\n",
    "    new_centroids = tf.concat([tf.expand_dims(tf.reduce_mean(partition, 0), 0) for partition in partitions], 0)\n",
    "    return new_centroids"
   ]
  },
  {
   "cell_type": "code",
   "execution_count": 10,
   "metadata": {},
   "outputs": [
    {
     "name": "stdout",
     "output_type": "stream",
     "text": [
      "[[ -4.39109584  15.77500072]\n",
      " [  8.11978796   3.45304695]\n",
      " [-12.03934758 -12.04019179]] this is the actual answer\n",
      "[[-9.302317  20.529745 ]\n",
      " [ 5.3026304  1.6563395]\n",
      " [ 7.0891495  3.8291836]] this is the initial random centroid\n",
      "[[ -4.50219    15.896543 ]\n",
      " [-12.256792  -12.084414 ]\n",
      " [  8.084836    3.1792228]] this is the final guess after 10 iterations\n"
     ]
    }
   ],
   "source": [
    "n_clusters = 3\n",
    "n_samples_per_cluster = 500\n",
    "n_features = 2\n",
    "embiggen_factor = 35\n",
    "seed = 42\n",
    "n_iterations = 10\n",
    "\n",
    "ans, samples = create_samples(n_clusters, n_samples_per_cluster, n_features, embiggen_factor, seed)\n",
    "\n",
    "samples = tf.Variable(samples)\n",
    "centroids = tf.Variable(choose_random_centroids(samples, n_clusters))\n",
    "\n",
    "nearest_indices = assign_to_nearest(samples, centroids)\n",
    "updated_centroids = update_centroids(samples, nearest_indices, n_clusters)\n",
    "training_op = tf.assign(centroids, updated_centroids)\n",
    "\n",
    "init = tf.global_variables_initializer()\n",
    "\n",
    "with tf.Session() as sess:\n",
    "    sess.run(init)\n",
    "    print(ans.eval(), 'this is the actual answer')\n",
    "    print(centroids.eval(), 'this is the initial random centroid')\n",
    "    for i in range(n_iterations):\n",
    "        sess.run(training_op)\n",
    "    print(centroids.eval(), f'this is the final guess after {n_iterations} iterations')\n",
    "\n",
    "# plot_clusters(samples, centroids, n_samples_per_cluster)"
   ]
  },
  {
   "cell_type": "code",
   "execution_count": null,
   "metadata": {
    "collapsed": true
   },
   "outputs": [],
   "source": []
  }
 ],
 "metadata": {
  "kernelspec": {
   "display_name": "Python 3",
   "language": "python",
   "name": "python3"
  },
  "language_info": {
   "codemirror_mode": {
    "name": "ipython",
    "version": 3
   },
   "file_extension": ".py",
   "mimetype": "text/x-python",
   "name": "python",
   "nbconvert_exporter": "python",
   "pygments_lexer": "ipython3",
   "version": "3.6.5"
  }
 },
 "nbformat": 4,
 "nbformat_minor": 2
}
